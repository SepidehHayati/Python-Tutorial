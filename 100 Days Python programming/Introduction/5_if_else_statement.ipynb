{
 "cells": [
  {
   "cell_type": "markdown",
   "id": "698653ae-f639-4c5a-b97e-99890031881f",
   "metadata": {},
   "source": [
    "### if_else_statement"
   ]
  },
  {
   "cell_type": "code",
   "execution_count": 27,
   "id": "5df6a4d1-64e2-4714-8c60-6d7d4586efe9",
   "metadata": {},
   "outputs": [
    {
     "name": "stdout",
     "output_type": "stream",
     "text": [
      "The condition was true!\n"
     ]
    }
   ],
   "source": [
    "# A simple if-statement to check if a condition is true\n",
    "if 25 > 10:\n",
    "    print('The condition was true!')"
   ]
  },
  {
   "cell_type": "code",
   "execution_count": 29,
   "id": "5ce5c6fc-71b4-409f-b0d6-5b45d0a26fd6",
   "metadata": {},
   "outputs": [
    {
     "name": "stdout",
     "output_type": "stream",
     "text": [
      "The condition was False!\n"
     ]
    }
   ],
   "source": [
    "# An if-else statement to handle both true and false conditions\n",
    "if 25 < 10:\n",
    "    print('The condition was True!')\n",
    "else:\n",
    "    print('The condition was False!')"
   ]
  },
  {
   "cell_type": "code",
   "execution_count": 31,
   "id": "3825f5a1-f24c-4122-b646-92952f324fb1",
   "metadata": {},
   "outputs": [
    {
     "name": "stdout",
     "output_type": "stream",
     "text": [
      "The condition was True!\n"
     ]
    }
   ],
   "source": [
    "# An if-elif-else statement to evaluate multiple conditions\n",
    "if 25 < 10 or 1 < 3:\n",
    "    # The first condition is false, but the second condition is true\n",
    "    print('The condition was True!')\n",
    "elif 25 < 30:\n",
    "    # This block is skipped because the first condition was true\n",
    "    print('elif worked')\n",
    "else:\n",
    "    # This block is not executed because one of the conditions is true\n",
    "    print('The condition was False!')"
   ]
  },
  {
   "cell_type": "code",
   "execution_count": 33,
   "id": "13f1d848-4ee6-4c68-90a1-14afc37e112d",
   "metadata": {},
   "outputs": [
    {
     "name": "stdout",
     "output_type": "stream",
     "text": [
      "it worked!\n"
     ]
    }
   ],
   "source": [
    "# A one-liner if-else statement to execute a condition inline\n",
    "print('it worked!') if 3 < 4 else print('it did not worked!')"
   ]
  },
  {
   "cell_type": "markdown",
   "id": "2fa9728e-fdc2-46f4-a453-1dc98d1c6e8e",
   "metadata": {},
   "source": [
    "## Nested if-statement"
   ]
  },
  {
   "cell_type": "code",
   "execution_count": 35,
   "id": "44836eca-efd5-411c-aa9e-4d50feb15c4a",
   "metadata": {},
   "outputs": [
    {
     "name": "stdout",
     "output_type": "stream",
     "text": [
      "The condition was True!\n",
      "Also the nested if-statement worked!\n"
     ]
    }
   ],
   "source": [
    "# A nested if-statement: one condition is checked inside another\n",
    "if 10 > 25 or 1 > -1:\n",
    "    # Outer condition is true because the second condition (1 > -1) is true\n",
    "    print('The condition was True!')\n",
    "    if 10 != 20:\n",
    "        # Nested condition is also true, so this block executes\n",
    "        print('Also the nested if-statement worked!')"
   ]
  }
 ],
 "metadata": {
  "kernelspec": {
   "display_name": "Python 3 (ipykernel)",
   "language": "python",
   "name": "python3"
  },
  "language_info": {
   "codemirror_mode": {
    "name": "ipython",
    "version": 3
   },
   "file_extension": ".py",
   "mimetype": "text/x-python",
   "name": "python",
   "nbconvert_exporter": "python",
   "pygments_lexer": "ipython3",
   "version": "3.12.4"
  }
 },
 "nbformat": 4,
 "nbformat_minor": 5
}
