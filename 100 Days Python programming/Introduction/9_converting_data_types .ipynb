{
 "cells": [
  {
   "cell_type": "markdown",
   "id": "6713fcfa-5333-401e-8942-8d54ea8b00e4",
   "metadata": {},
   "source": [
    "## Converting Data Types"
   ]
  },
  {
   "cell_type": "markdown",
   "id": "8ec8d5d8-3920-4542-a723-68219fe4b255",
   "metadata": {},
   "source": [
    "### 1. Integer"
   ]
  },
  {
   "cell_type": "code",
   "execution_count": 133,
   "id": "634c06c5-9485-4b0e-8f55-71f3bf8b149a",
   "metadata": {},
   "outputs": [
    {
     "data": {
      "text/plain": [
       "int"
      ]
     },
     "execution_count": 133,
     "metadata": {},
     "output_type": "execute_result"
    }
   ],
   "source": [
    "num = 7\n",
    "type(num)  # Check type of the variable 'num'. Expected output: <class 'int'>"
   ]
  },
  {
   "cell_type": "markdown",
   "id": "5085a5c7-e700-461c-a1d4-077c3355be38",
   "metadata": {},
   "source": [
    "### 2. String"
   ]
  },
  {
   "cell_type": "code",
   "execution_count": 136,
   "id": "5def735f-1c82-4e4b-a50c-4261da23941e",
   "metadata": {},
   "outputs": [
    {
     "data": {
      "text/plain": [
       "str"
      ]
     },
     "execution_count": 136,
     "metadata": {},
     "output_type": "execute_result"
    }
   ],
   "source": [
    "str = '7'\n",
    "type(str)"
   ]
  },
  {
   "cell_type": "code",
   "execution_count": 140,
   "id": "8c164f75-5eac-42d1-a461-b277a40edb99",
   "metadata": {},
   "outputs": [
    {
     "data": {
      "text/plain": [
       "int"
      ]
     },
     "execution_count": 140,
     "metadata": {},
     "output_type": "execute_result"
    }
   ],
   "source": [
    "# Converting string to integer for valid addition\n",
    "str_conv = int(str)  # Convert string 'str' to an integer\n",
    "type(str_conv)  # Check type of 'str_conv'. Expected output: <class 'int'>"
   ]
  },
  {
   "cell_type": "code",
   "execution_count": null,
   "id": "e6445574-9aec-4d11-af67-7f85c77fc8e8",
   "metadata": {},
   "outputs": [],
   "source": [
    "# Now that both num and str_conv are integers, we can perform the addition\n",
    "num_sum = num + str_conv\n",
    "print(num_sum)"
   ]
  },
  {
   "cell_type": "markdown",
   "id": "68fea48b-f34d-43eb-9504-f1a38141de71",
   "metadata": {},
   "source": [
    "### 3. List"
   ]
  },
  {
   "cell_type": "code",
   "execution_count": null,
   "id": "f229bead-2234-4d20-91aa-b8060b12f152",
   "metadata": {},
   "outputs": [],
   "source": [
    "#Converting List to Different Data Types\n",
    "\n",
    "list_type = [1, 2, 3, 3, 4, 4, 5, 6, 6, 8, 8]\n",
    "type(list_type)"
   ]
  },
  {
   "cell_type": "markdown",
   "id": "3c6b20bb-4e32-4ab6-aef6-eaa695a46771",
   "metadata": {},
   "source": [
    "### 4. Tuple"
   ]
  },
  {
   "cell_type": "code",
   "execution_count": null,
   "id": "bb2ea543-c5ad-414c-abcd-0d1efb39f335",
   "metadata": {},
   "outputs": [],
   "source": [
    "# Converting a list to a tuple\n",
    "tuple(list_type)"
   ]
  },
  {
   "cell_type": "code",
   "execution_count": null,
   "id": "65dc62b7-a040-4ee4-9f6a-3c6cc23d88ad",
   "metadata": {},
   "outputs": [],
   "source": [
    "type (tuple (list_type))"
   ]
  },
  {
   "cell_type": "markdown",
   "id": "4562b244-94ba-4af1-a84f-73da0b5d8366",
   "metadata": {},
   "source": [
    "### 5. Set"
   ]
  },
  {
   "cell_type": "code",
   "execution_count": null,
   "id": "b7ec55e3-fe39-4e3e-830b-0ec88a1d4914",
   "metadata": {},
   "outputs": [],
   "source": [
    "# Converting the list to a set\n",
    "set(list_type)"
   ]
  },
  {
   "cell_type": "code",
   "execution_count": null,
   "id": "7b19ee3a-0d0e-4bb1-be41-216e9ef91ffe",
   "metadata": {},
   "outputs": [],
   "source": [
    "type (set (list_type))"
   ]
  },
  {
   "cell_type": "markdown",
   "id": "697393d4-d543-46ed-b23f-b3bac792c7fb",
   "metadata": {},
   "source": [
    "### 6. Dictionary"
   ]
  },
  {
   "cell_type": "code",
   "execution_count": null,
   "id": "14345d56-dc3f-4f89-8917-23b00cda36b5",
   "metadata": {},
   "outputs": [],
   "source": [
    "dict_type = {'name': 'sepideh', 'city': 'pavia', 'education': 'master'}\n",
    "print (dict_type)"
   ]
  },
  {
   "cell_type": "code",
   "execution_count": null,
   "id": "5442b9d1-6e17-4ccd-967c-92ac9107bfb9",
   "metadata": {},
   "outputs": [],
   "source": [
    "type (dict_type)"
   ]
  },
  {
   "cell_type": "code",
   "execution_count": null,
   "id": "0dfe9dcb-3b1d-429f-9153-bd41e2513155",
   "metadata": {},
   "outputs": [],
   "source": [
    "# Getting dictionary items (key-value pairs)\n",
    "dict_type.items()  # Returns dictionary items as a view object"
   ]
  },
  {
   "cell_type": "code",
   "execution_count": null,
   "id": "7365c71a-9d5f-4db3-ad65-e8cb98e81976",
   "metadata": {},
   "outputs": [],
   "source": [
    "# Getting dictionary values\n",
    "dict_type.values()  # Returns dictionary values as a view object"
   ]
  },
  {
   "cell_type": "code",
   "execution_count": null,
   "id": "3620c80c-8643-4f94-9454-44a9242f7305",
   "metadata": {},
   "outputs": [],
   "source": [
    "# Getting dictionary keys\n",
    "dict_type.keys()  # Returns dictionary keys as a view object"
   ]
  },
  {
   "cell_type": "code",
   "execution_count": null,
   "id": "268ef258-33ab-48c8-802a-81db46958485",
   "metadata": {},
   "outputs": [],
   "source": [
    "# Converting dictionary values to a list\n",
    "list(dict_type.values())  # Converts dictionary values to a list"
   ]
  },
  {
   "cell_type": "code",
   "execution_count": null,
   "id": "c40df6d2-0bd8-4a02-9e7f-2a683ac54dc4",
   "metadata": {},
   "outputs": [],
   "source": [
    "type (list (dict_type.values()))"
   ]
  },
  {
   "cell_type": "code",
   "execution_count": null,
   "id": "42d52347-3bb9-4862-8047-000783fd5b93",
   "metadata": {},
   "outputs": [],
   "source": [
    "# Converting dictionary items to a tuple\n",
    "tuple(dict_type.items())"
   ]
  },
  {
   "cell_type": "code",
   "execution_count": null,
   "id": "850ba35a-6be2-4b3c-8ed8-b3c4730efc66",
   "metadata": {},
   "outputs": [],
   "source": [
    "type (tuple (dict_type.items()))"
   ]
  },
  {
   "cell_type": "markdown",
   "id": "85e1770b-782c-4577-8e76-94c78f407800",
   "metadata": {},
   "source": [
    "### 7. Long string"
   ]
  },
  {
   "cell_type": "code",
   "execution_count": null,
   "id": "76803bcf-ab94-4ba6-b42f-c20ccb73e17c",
   "metadata": {},
   "outputs": [],
   "source": [
    "long_str = ' I like to dance'"
   ]
  },
  {
   "cell_type": "code",
   "execution_count": null,
   "id": "f8a92a48-5cea-4ace-9dc9-fef1d9f9f09e",
   "metadata": {},
   "outputs": [],
   "source": [
    "list(long_str)  # Splits string into a list of individual characters, including spaces"
   ]
  },
  {
   "cell_type": "code",
   "execution_count": null,
   "id": "2b7f4d9d-1e27-4ede-afcb-3b9d597a28a1",
   "metadata": {},
   "outputs": [],
   "source": [
    "set(long_str)  # Converts string to a set, removing duplicate characters and spaces"
   ]
  }
 ],
 "metadata": {
  "kernelspec": {
   "display_name": "Python 3 (ipykernel)",
   "language": "python",
   "name": "python3"
  },
  "language_info": {
   "codemirror_mode": {
    "name": "ipython",
    "version": 3
   },
   "file_extension": ".py",
   "mimetype": "text/x-python",
   "name": "python",
   "nbconvert_exporter": "python",
   "pygments_lexer": "ipython3",
   "version": "3.12.4"
  }
 },
 "nbformat": 4,
 "nbformat_minor": 5
}
