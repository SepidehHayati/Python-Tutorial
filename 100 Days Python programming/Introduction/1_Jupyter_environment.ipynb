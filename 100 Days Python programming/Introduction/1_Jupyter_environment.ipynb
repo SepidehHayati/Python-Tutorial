{
 "cells": [
  {
   "cell_type": "markdown",
   "id": "2b96979e-6995-4b64-b2fc-49012cfc252b",
   "metadata": {},
   "source": [
    "# My First Notebook - Python for Beginner"
   ]
  },
  {
   "cell_type": "code",
   "execution_count": 1,
   "id": "3b4918d5-2dc7-4097-8ad2-2149fbbecac3",
   "metadata": {},
   "outputs": [
    {
     "name": "stdout",
     "output_type": "stream",
     "text": [
      "hello world!\n"
     ]
    }
   ],
   "source": [
    "# Printing \"Hello, World!\" - This is the first classic program in any language.\n",
    "# It helps you get familiar with basic syntax and output.\n",
    "\n",
    "print('hello world!')\n"
   ]
  },
  {
   "cell_type": "code",
   "execution_count": 3,
   "id": "57a2da1b-c40f-4d94-97ab-e437de310f58",
   "metadata": {},
   "outputs": [
    {
     "name": "stdout",
     "output_type": "stream",
     "text": [
      "this is a hello note\n"
     ]
    }
   ],
   "source": [
    "# Printing a custom message\n",
    "# In Python, the print() function is used to display messages.\n",
    "# Here, we are printing a simple message to the console.\n",
    "\n",
    "print('this is a hello note')"
   ]
  },
  {
   "cell_type": "code",
   "execution_count": 7,
   "id": "a2151649-80d7-4985-875d-feb3607a4f1d",
   "metadata": {},
   "outputs": [
    {
     "name": "stdout",
     "output_type": "stream",
     "text": [
      "To run a cell using key: shift + enter\n"
     ]
    }
   ],
   "source": [
    "# Printing instructions for running a cell\n",
    "# In Jupyter Notebooks, you can run each cell by pressing Shift + Enter.\n",
    "# Let's print this instruction as a message.\n",
    "print('To run a cell using key: shift + enter')"
   ]
  },
  {
   "cell_type": "code",
   "execution_count": null,
   "id": "97c9d588-1e00-40b5-842e-ea3d8478a387",
   "metadata": {},
   "outputs": [],
   "source": []
  }
 ],
 "metadata": {
  "kernelspec": {
   "display_name": "Python 3 (ipykernel)",
   "language": "python",
   "name": "python3"
  },
  "language_info": {
   "codemirror_mode": {
    "name": "ipython",
    "version": 3
   },
   "file_extension": ".py",
   "mimetype": "text/x-python",
   "name": "python",
   "nbconvert_exporter": "python",
   "pygments_lexer": "ipython3",
   "version": "3.12.4"
  }
 },
 "nbformat": 4,
 "nbformat_minor": 5
}
