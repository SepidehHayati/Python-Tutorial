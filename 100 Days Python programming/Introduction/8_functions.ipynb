{
 "cells": [
  {
   "cell_type": "markdown",
   "id": "8f4b5fed-7dbc-4dda-ab13-cb110231f71f",
   "metadata": {},
   "source": [
    "### Positional Function"
   ]
  },
  {
   "cell_type": "code",
   "execution_count": null,
   "id": "a4b245b4-586b-4fc9-bef8-3644fec59d02",
   "metadata": {},
   "outputs": [],
   "source": [
    "# Positional Functions:\n",
    "# These functions use positional arguments where the order matters.\n",
    "# Arguments are passed in the exact order defined in the function.\n"
   ]
  },
  {
   "cell_type": "code",
   "execution_count": 107,
   "id": "05c0a6ce-0c04-4059-b5d8-749adee3d6d6",
   "metadata": {},
   "outputs": [],
   "source": [
    "# A simple positional function without arguments\n",
    "def my_first_function():\n",
    "    print('Oggi e sabato e io sto studiano Python e questa e mia prima function')"
   ]
  },
  {
   "cell_type": "code",
   "execution_count": 109,
   "id": "b4344208-97a3-491e-b3cc-febe2d9793d5",
   "metadata": {},
   "outputs": [
    {
     "name": "stdout",
     "output_type": "stream",
     "text": [
      "Oggi e sabato e io sto studiano Python e questa e mia prima function\n"
     ]
    }
   ],
   "source": [
    "# Calling the function\n",
    "my_first_function()\n"
   ]
  },
  {
   "cell_type": "code",
   "execution_count": 111,
   "id": "5df262d2-2483-4d5a-ad56-7a4197956a94",
   "metadata": {},
   "outputs": [],
   "source": [
    "# A positional function with one argument\n",
    "def power_function(number):\n",
    "    print('Today is', number, 'th of October')"
   ]
  },
  {
   "cell_type": "code",
   "execution_count": 11,
   "id": "8885c828-ebf8-4eb6-a1c0-4194c17580d7",
   "metadata": {},
   "outputs": [
    {
     "name": "stdout",
     "output_type": "stream",
     "text": [
      "today is 8 th of October\n"
     ]
    }
   ],
   "source": [
    "# Calling the function with a positional argument\n",
    "power_function(8)\n"
   ]
  },
  {
   "cell_type": "code",
   "execution_count": 113,
   "id": "09c0bb17-d4ce-4e8f-ac99-0daf465b09f0",
   "metadata": {},
   "outputs": [],
   "source": [
    "# A positional function with two arguments\n",
    "def number_squared(x, y):\n",
    "    print(x, 'power', y, 'is equal to:', x**y)"
   ]
  },
  {
   "cell_type": "code",
   "execution_count": 115,
   "id": "264f26ef-4ffb-409f-929e-ca8af171b799",
   "metadata": {},
   "outputs": [
    {
     "name": "stdout",
     "output_type": "stream",
     "text": [
      "4 power 2 is equal to: 16\n"
     ]
    }
   ],
   "source": [
    "# Calling the function with two positional arguments\n",
    "power_function(4, 2)"
   ]
  },
  {
   "cell_type": "markdown",
   "id": "dd1c5d99-8df9-4db3-9917-85a66f29573b",
   "metadata": {},
   "source": [
    "### Arbitrary function"
   ]
  },
  {
   "cell_type": "code",
   "execution_count": 42,
   "id": "d036fa2b-98da-46e6-a651-d93c69809150",
   "metadata": {},
   "outputs": [],
   "source": [
    "# Arbitrary Arguments:\n",
    "# Functions that accept a variable number of positional arguments using *args.\n",
    "# The arguments are received as a tuple."
   ]
  },
  {
   "cell_type": "code",
   "execution_count": null,
   "id": "ce068bfd-7596-4fd4-886b-efc2435d760d",
   "metadata": {},
   "outputs": [],
   "source": [
    "# A function that multiplies the first two elements of *args\n",
    "def func_arb(*i):\n",
    "    print(i[0] * i[1])"
   ]
  },
  {
   "cell_type": "code",
   "execution_count": 40,
   "id": "0557cb81-6a6f-42d1-96f8-3cbac0540fe0",
   "metadata": {},
   "outputs": [
    {
     "name": "stdout",
     "output_type": "stream",
     "text": [
      "72\n"
     ]
    }
   ],
   "source": [
    "# Calling the function with multiple arguments\n",
    "func_arb(9, 8, 7, 6, 5, 4, 3)"
   ]
  },
  {
   "cell_type": "code",
   "execution_count": 51,
   "id": "0aa61ca2-15ca-4e82-9853-83291055ba6b",
   "metadata": {},
   "outputs": [],
   "source": [
    "# Passing a tuple of arguments to the function using unpacking\n",
    "arg_tuple = (9, 8, 7, 6, 5, 4, 3)\n",
    "\n",
    "def func_arb(*i):\n",
    "    print(i[0] * i[1])"
   ]
  },
  {
   "cell_type": "code",
   "execution_count": 53,
   "id": "a004b97f-7eca-4cff-a68e-8a24e903d01c",
   "metadata": {},
   "outputs": [
    {
     "name": "stdout",
     "output_type": "stream",
     "text": [
      "72\n"
     ]
    }
   ],
   "source": [
    "\n",
    "# Unpacking the tuple and passing it to the function\n",
    "func_arb(*arg_tuple)"
   ]
  },
  {
   "cell_type": "markdown",
   "id": "2196b36b-c80d-4a38-841d-1280ec16fe57",
   "metadata": {},
   "source": [
    "### keyword Argument"
   ]
  },
  {
   "cell_type": "code",
   "execution_count": null,
   "id": "6b9fe5c4-f555-4c27-ba69-a5342b500d1e",
   "metadata": {},
   "outputs": [],
   "source": [
    "# Keyword Arguments:\n",
    "# Functions that use named arguments (keyword arguments) with default values.\n",
    "# The order of arguments doesn't matter when using keyword arguments."
   ]
  },
  {
   "cell_type": "code",
   "execution_count": 117,
   "id": "b562b2ca-e55d-499b-acc5-7f7fb301e09b",
   "metadata": {},
   "outputs": [],
   "source": [
    "# A function with keyword arguments and default values\n",
    "def personal_data_arg(name='Sepideh', city='Pavia', job='data'):\n",
    "    print('My name is', name, ', I live in', city, 'and work in', job, 'positions')"
   ]
  },
  {
   "cell_type": "code",
   "execution_count": 119,
   "id": "5d2dddde-190b-4aa6-b564-db5cd6253313",
   "metadata": {},
   "outputs": [
    {
     "name": "stdout",
     "output_type": "stream",
     "text": [
      "My name is Sepideh , I live in Pavia and work in data positions\n"
     ]
    }
   ],
   "source": [
    "# Calling the function without any arguments (uses default values)\n",
    "personal_data_arg()"
   ]
  },
  {
   "cell_type": "code",
   "execution_count": 121,
   "id": "88848086-7f89-4e99-95bd-d85807da08f3",
   "metadata": {},
   "outputs": [
    {
     "name": "stdout",
     "output_type": "stream",
     "text": [
      "My name is Sara , I live in Pavia and work in engineer positions\n"
     ]
    }
   ],
   "source": [
    "# Calling the function with some keyword arguments\n",
    "personal_data_arg(name='Sara', job='engineer')"
   ]
  },
  {
   "cell_type": "markdown",
   "id": "029b0235-813f-4325-9a07-1388621cbbd3",
   "metadata": {},
   "source": [
    "### Variable Keyword Arguments"
   ]
  },
  {
   "cell_type": "code",
   "execution_count": 123,
   "id": "3003af9d-dcee-4029-8d12-97809707a7e2",
   "metadata": {},
   "outputs": [],
   "source": [
    "# Variable Keyword Arguments:\n",
    "# Functions that accept a variable number of keyword arguments using **kwargs keyword argument.\n",
    "# The arguments are received as a dictionary where keys are parameter names."
   ]
  },
  {
   "cell_type": "code",
   "execution_count": 129,
   "id": "66521359-2d70-4386-9477-6062a6105d21",
   "metadata": {},
   "outputs": [],
   "source": [
    "# A function that uses **kwargs to print formatted personal data\n",
    "def func_kwargs(**num):\n",
    "    print('My name is ' + num['str1'] + ' and my surname is ' + num['str2'])"
   ]
  },
  {
   "cell_type": "code",
   "execution_count": 131,
   "id": "a8fa6029-e574-4909-803a-57382fe99ca5",
   "metadata": {},
   "outputs": [
    {
     "name": "stdout",
     "output_type": "stream",
     "text": [
      "My name is Sepideh and my surname is Hayati\n"
     ]
    }
   ],
   "source": [
    "# Calling the function with keyword arguments\n",
    "func_kwargs(str1='Sepideh', str2='Hayati')"
   ]
  },
  {
   "cell_type": "code",
   "execution_count": null,
   "id": "73ac87d0-5dc0-4230-a46b-c8233321a5d4",
   "metadata": {},
   "outputs": [],
   "source": [
    "# Use positional functions for simple, fixed-argument functions.\n",
    "# Use arbitrary arguments (*args) when the number of arguments is variable, but order matters.\n",
    "# Use keyword arguments to make function calls more descriptive and allow default values.\n",
    "# Use variable keyword arguments (**kwargs) when accepting an arbitrary number of named arguments."
   ]
  }
 ],
 "metadata": {
  "kernelspec": {
   "display_name": "Python 3 (ipykernel)",
   "language": "python",
   "name": "python3"
  },
  "language_info": {
   "codemirror_mode": {
    "name": "ipython",
    "version": 3
   },
   "file_extension": ".py",
   "mimetype": "text/x-python",
   "name": "python",
   "nbconvert_exporter": "python",
   "pygments_lexer": "ipython3",
   "version": "3.12.4"
  }
 },
 "nbformat": 4,
 "nbformat_minor": 5
}
