{
 "cells": [
  {
   "cell_type": "markdown",
   "id": "9d1c9425-e1c0-4055-9c0a-e8eccb8a3af8",
   "metadata": {},
   "source": [
    "## Variable and Types:"
   ]
  },
  {
   "cell_type": "code",
   "execution_count": 51,
   "id": "cd36fbd2-8ac0-4a36-927c-b68c7a4c5b5f",
   "metadata": {},
   "outputs": [],
   "source": [
    "# Variables and Types: This section covers how to assign values to variables, check their types, and overwrite them.\n",
    "# Lists: You learn how to unpack a list into variables.\n",
    "# Variable Naming: Shows different ways to name variables and highlights invalid variable names.\n",
    "# Operations: Covers basic arithmetic and string operations, as well as how string concatenation works in Python."
   ]
  },
  {
   "cell_type": "code",
   "execution_count": 17,
   "id": "3f929a4a-8158-49b3-8730-970f975f942c",
   "metadata": {},
   "outputs": [
    {
     "name": "stdout",
     "output_type": "stream",
     "text": [
      "22\n"
     ]
    }
   ],
   "source": [
    "# Type 1: X is a variable, and 22 is its value.\n",
    "x = 22\n",
    "print(x)  # This will print the value of x, which is 22."
   ]
  },
  {
   "cell_type": "code",
   "execution_count": 19,
   "id": "126896cb-9269-408b-b7ef-3834b7d49bfb",
   "metadata": {},
   "outputs": [
    {
     "data": {
      "text/plain": [
       "int"
      ]
     },
     "execution_count": 19,
     "metadata": {},
     "output_type": "execute_result"
    }
   ],
   "source": [
    "# Type 2: Checking the type of the variable 'x' using the type() function.\n",
    "type(x)  # This will return <class 'int'>, as x is an integer.\n"
   ]
  },
  {
   "cell_type": "code",
   "execution_count": 21,
   "id": "790bf512-2172-407f-8325-32444b15efa2",
   "metadata": {},
   "outputs": [
    {
     "name": "stdout",
     "output_type": "stream",
     "text": [
      "this is my second day of reviewing python for data analytics\n"
     ]
    }
   ],
   "source": [
    "# Assigning a string to a variable 'y' and printing its value.\n",
    "y = 'this is my second day of reviewing python for data analytics'\n",
    "print(y)  # This will print the string assigned to 'y'.\n"
   ]
  },
  {
   "cell_type": "code",
   "execution_count": 23,
   "id": "b4896e15-6107-4a5b-865c-9b857bb02803",
   "metadata": {},
   "outputs": [
    {
     "data": {
      "text/plain": [
       "str"
      ]
     },
     "execution_count": 23,
     "metadata": {},
     "output_type": "execute_result"
    }
   ],
   "source": [
    "# Checking the type of the variable 'y'.\n",
    "type(y)  # This will return <class 'str'> because y is a string.\n"
   ]
  },
  {
   "cell_type": "code",
   "execution_count": 14,
   "id": "cb2308d9-b194-4c44-8234-bb99d8d73918",
   "metadata": {},
   "outputs": [
    {
     "name": "stdout",
     "output_type": "stream",
     "text": [
      "chocolate\n"
     ]
    }
   ],
   "source": [
    "# Overwriting variables:\n",
    "# You can overwrite variables, and the last assignment will be used.\n",
    "# Initially 'y' is assigned 'tea', but then it's overwritten with 'chocolate'.\n",
    "y = 'tea'\n",
    "y = 'chocolate'  # 'y' is now 'chocolate'.\n",
    "print(y)  # This will print 'chocolate'.\n"
   ]
  },
  {
   "cell_type": "code",
   "execution_count": 25,
   "id": "adf13646-c3d4-4116-a9d7-02d81f1ed2bf",
   "metadata": {},
   "outputs": [
    {
     "name": "stdout",
     "output_type": "stream",
     "text": [
      "chocolate\n",
      "vanilla\n",
      "rocky\n"
     ]
    }
   ],
   "source": [
    "# Multiple assignment: assigning multiple values to multiple variables at once.\n",
    "x, y, z = 'chocolate', 'vanilla', 'rocky'\n",
    "\n",
    "# Each value is printed individually.\n",
    "print(x)  # Output: chocolate\n",
    "print(y)  # Output: vanilla\n",
    "print(z)  # Output: rocky\n"
   ]
  },
  {
   "cell_type": "code",
   "execution_count": 27,
   "id": "d17a8540-9279-4bc0-97b6-4bcce64a5cfe",
   "metadata": {},
   "outputs": [
    {
     "name": "stdout",
     "output_type": "stream",
     "text": [
      "cappuccino\n",
      "cappuccino\n",
      "cappuccino\n"
     ]
    }
   ],
   "source": [
    "# Assigning the same value to multiple variables.\n",
    "x = y = z = 'cappuccino'\n",
    "\n",
    "# Printing the value of each variable. All variables will print 'cappuccino'.\n",
    "print(x)\n",
    "print(y)\n",
    "print(z)\n"
   ]
  },
  {
   "cell_type": "markdown",
   "id": "51f69193-3ad9-44ed-9eb7-1e87ad098b5a",
   "metadata": {},
   "source": [
    "## Lists:"
   ]
  },
  {
   "cell_type": "code",
   "execution_count": 29,
   "id": "f5c8a4f8-a3eb-4ace-a309-5374cb93a403",
   "metadata": {},
   "outputs": [
    {
     "name": "stdout",
     "output_type": "stream",
     "text": [
      "chocolate\n",
      "vanilla\n",
      "rocky\n"
     ]
    }
   ],
   "source": [
    "# Unpacking a list: Assigning values from a list to multiple variables.\n",
    "ice_cream = ['chocolate', 'vanilla', 'rocky']\n",
    "\n",
    "# Unpacking the list into three variables x, y, and z.\n",
    "x, y, z = ice_cream\n",
    "\n",
    "# Printing each variable to show the values from the list.\n",
    "print(x)  # Output: chocolate\n",
    "print(y)  # Output: vanilla\n",
    "print(z)  # Output: rocky\n"
   ]
  },
  {
   "cell_type": "markdown",
   "id": "f6674f15-04b7-4839-ae07-31ef1eb34840",
   "metadata": {},
   "source": [
    "## How to name Variables:"
   ]
  },
  {
   "cell_type": "code",
   "execution_count": 31,
   "id": "1b13648b-0b2e-4354-bafd-4060b73af90d",
   "metadata": {},
   "outputs": [],
   "source": [
    "# Camel case: the first word is lowercase, and subsequent words start with uppercase.\n",
    "testVariableCase = 'vanilla'\n",
    "\n",
    "# Pascal case: every word starts with an uppercase letter.\n",
    "TestVariableCase = 'vanilla'\n",
    "\n",
    "# Snake case: words are separated by underscores.\n",
    "test_variable_case = 'vanilla'  # This is a common and recommended convention in Python.\n"
   ]
  },
  {
   "cell_type": "code",
   "execution_count": 39,
   "id": "df480020-fea9-4b98-afed-9c4e9427808a",
   "metadata": {},
   "outputs": [],
   "source": [
    "# Example of different ways to name variables:\n",
    "testvar = 'vanilla'       # All lowercase\n",
    "TestVar = 'vanilla'       # Pascal case\n",
    "test_var = 'vanilla'      # Snake case\n",
    "_test_var = 'vanilla'     # Underscore at the beginning\n",
    "testVar = 'vanilla'       # Camel case\n",
    "testvar2 = 'vanilla'      # Including a number in the name\n",
    "\n",
    "# Invalid variable names:\n",
    "# 2testvar = 'vanilla'    # Starts with a number (invalid)\n",
    "# test-var = 'vanilla'    # Hyphen is not allowed (invalid)\n",
    "# test,var = 'vanilla'    # Comma is not allowed in variable names (invalid)\n",
    "# test var = 'vanilla'    # Spaces are not allowed in variable names (invalid)\n"
   ]
  },
  {
   "cell_type": "markdown",
   "id": "7e76aa68-75b4-44bb-ac38-970c50dfd733",
   "metadata": {},
   "source": [
    "## Operation and sign:"
   ]
  },
  {
   "cell_type": "code",
   "execution_count": 35,
   "id": "d58bf7cf-6fbd-47f2-85d4-c13494454f54",
   "metadata": {},
   "outputs": [
    {
     "name": "stdout",
     "output_type": "stream",
     "text": [
      "ice cream:is my favorite\n"
     ]
    }
   ],
   "source": [
    "# String concatenation using the plus (+) sign.\n",
    "x = 'ice cream' + ':' + 'is my favorite'\n",
    "print(x)  # Output: ice cream :is my favorite\n",
    "\n",
    "# You cannot concatenate a string with a number.\n",
    "# Uncommenting the following line would result in an error:\n",
    "# x = 'ice cream' + ' :' + 2\n"
   ]
  },
  {
   "cell_type": "code",
   "execution_count": 41,
   "id": "20db7349-8360-49d8-94db-36cf19cd021b",
   "metadata": {},
   "outputs": [
    {
     "name": "stdout",
     "output_type": "stream",
     "text": [
      "5\n"
     ]
    }
   ],
   "source": [
    "# Adding two numbers.\n",
    "y = 2 + 3\n",
    "print(y)  # Output: 5\n"
   ]
  },
  {
   "cell_type": "code",
   "execution_count": 45,
   "id": "b0823a8b-dabf-467f-8c17-a2c8dd57efdd",
   "metadata": {},
   "outputs": [
    {
     "name": "stdout",
     "output_type": "stream",
     "text": [
      "ice cream is my favorite\n"
     ]
    }
   ],
   "source": [
    "# Concatenating multiple strings.\n",
    "x = 'ice cream'\n",
    "y = ' is'\n",
    "z = ' my favorite'\n",
    "\n",
    "# Using the plus sign to join strings.\n",
    "print(x + y + z)  # Output: ice cream is my favorite (no spaces between the words)\n"
   ]
  },
  {
   "cell_type": "code",
   "execution_count": 47,
   "id": "0099d4c9-4d57-49c9-90bf-d12d91f7dd11",
   "metadata": {},
   "outputs": [
    {
     "name": "stdout",
     "output_type": "stream",
     "text": [
      "6\n"
     ]
    }
   ],
   "source": [
    "# Adding multiple numbers.\n",
    "x = 1\n",
    "y = 2\n",
    "z = 3\n",
    "\n",
    "print(x + y + z)  # Output: 6\n"
   ]
  },
  {
   "cell_type": "code",
   "execution_count": 49,
   "id": "8971878a-9508-4112-b992-21759c0f9b81",
   "metadata": {},
   "outputs": [],
   "source": [
    "# Attempting to add a string and a number will cause an error.\n",
    "x = 'ice cream'\n",
    "y = 2\n",
    "\n",
    "# Uncommenting the following line would result in an error:\n",
    "# print(x + y)  # You cannot add a string and a number directly.\n"
   ]
  }
 ],
 "metadata": {
  "kernelspec": {
   "display_name": "Python 3 (ipykernel)",
   "language": "python",
   "name": "python3"
  },
  "language_info": {
   "codemirror_mode": {
    "name": "ipython",
    "version": 3
   },
   "file_extension": ".py",
   "mimetype": "text/x-python",
   "name": "python",
   "nbconvert_exporter": "python",
   "pygments_lexer": "ipython3",
   "version": "3.12.4"
  }
 },
 "nbformat": 4,
 "nbformat_minor": 5
}
