{
 "cells": [
  {
   "cell_type": "markdown",
   "id": "bcbe3a69-5e31-4381-aefe-cdd9601e73f0",
   "metadata": {},
   "source": [
    "### While loop"
   ]
  },
  {
   "cell_type": "code",
   "execution_count": 95,
   "id": "a7ab59c9-a8ed-4ba0-8239-3b9baa20e978",
   "metadata": {},
   "outputs": [
    {
     "name": "stdout",
     "output_type": "stream",
     "text": [
      "0\n",
      "1\n",
      "2\n",
      "3\n",
      "4\n"
     ]
    }
   ],
   "source": [
    "int = 0\n",
    "\n",
    "while int < 5:  # This loop will run until `int` is less than 5.\n",
    "    print (int)  # Print the current value of `int`.\n",
    "    int = int + 1  # Increment `int` by 1 on each iteration."
   ]
  },
  {
   "cell_type": "markdown",
   "id": "fa190f32-3ce6-4b73-9260-b659655192aa",
   "metadata": {},
   "source": [
    "### Break Statement While loop"
   ]
  },
  {
   "cell_type": "code",
   "execution_count": 97,
   "id": "7d4d22c3-09de-4550-8d4f-c311b1bd924c",
   "metadata": {},
   "outputs": [
    {
     "name": "stdout",
     "output_type": "stream",
     "text": [
      "0\n",
      "1\n",
      "2\n",
      "3\n"
     ]
    }
   ],
   "source": [
    "int = 0\n",
    "\n",
    "while int < 5:  # This loop will run until `int` is less than 5.\n",
    "    print (int)  # Print the current value of `int`.\n",
    "    if int == 3:  # Check if `int` is equal to 3.\n",
    "        break  # Exit the loop when `int` equals 3.\n",
    "    int = int + 1  # Increment `int` by 1 on each iteration."
   ]
  },
  {
   "cell_type": "markdown",
   "id": "26f58df2-e288-4ab2-b600-af0bd0c7bed8",
   "metadata": {},
   "source": [
    "### else Statement While loop"
   ]
  },
  {
   "cell_type": "code",
   "execution_count": 99,
   "id": "6cea4800-686d-444d-9eaf-5322193f0cce",
   "metadata": {},
   "outputs": [
    {
     "name": "stdout",
     "output_type": "stream",
     "text": [
      "0\n",
      "1\n",
      "2\n",
      "3\n",
      "4\n",
      "The number is no longer > 5\n"
     ]
    }
   ],
   "source": [
    "int = 0\n",
    "\n",
    "while int < 5:  # This loop will run until `int` is less than 5.\n",
    "    print (int)  # Print the current value of `int`.\n",
    "    if int == 6:  # Check if `int` is equal to 6 (this will never happen in this case).\n",
    "        break  # Exit the loop if the condition is met.\n",
    "    int = int + 1  # Increment `int` by 1 on each iteration.\n",
    "else:  # This block will execute if the loop is not exited by a `break` statement.\n",
    "    print ('The number is no longer > 5')  # Print this message when the loop ends normally."
   ]
  },
  {
   "cell_type": "code",
   "execution_count": 100,
   "id": "86a4acd0-391b-4fc6-8d24-9696c3cf6a0b",
   "metadata": {},
   "outputs": [
    {
     "name": "stdout",
     "output_type": "stream",
     "text": [
      "1\n",
      "3\n",
      "5\n",
      "7\n",
      "9\n"
     ]
    }
   ],
   "source": [
    "int = 0\n",
    "\n",
    "while int < 10:  # This loop will run until `int` is less than 10.\n",
    "    int = int + 1  # Increment `int` by 1 on each iteration.\n",
    "    if int % 2 == 0:  # Check if `int` is an even number.\n",
    "        continue  # Skip the rest of the loop and move to the next iteration.\n",
    "    print (int)  # Print the value of `int` if it is odd."
   ]
  }
 ],
 "metadata": {
  "kernelspec": {
   "display_name": "Python 3 (ipykernel)",
   "language": "python",
   "name": "python3"
  },
  "language_info": {
   "codemirror_mode": {
    "name": "ipython",
    "version": 3
   },
   "file_extension": ".py",
   "mimetype": "text/x-python",
   "name": "python",
   "nbconvert_exporter": "python",
   "pygments_lexer": "ipython3",
   "version": "3.12.4"
  }
 },
 "nbformat": 4,
 "nbformat_minor": 5
}
