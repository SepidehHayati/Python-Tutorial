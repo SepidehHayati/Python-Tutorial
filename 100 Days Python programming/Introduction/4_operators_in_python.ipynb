{
 "cells": [
  {
   "cell_type": "markdown",
   "id": "e7c8eae1-1028-450a-a54f-4beb661aa258",
   "metadata": {},
   "source": [
    "# Operators"
   ]
  },
  {
   "cell_type": "markdown",
   "id": "904709da-3c13-4e0b-a232-e98aac305cd0",
   "metadata": {},
   "source": [
    "### Comparison Operator"
   ]
  },
  {
   "cell_type": "code",
   "execution_count": 70,
   "id": "aa75eb1d-94bb-4735-9e66-60095f08ec5e",
   "metadata": {},
   "outputs": [],
   "source": [
    "# == Equal\n",
    "# != NotEqual\n",
    "# > Greater than\n",
    "# < Less than\n",
    "# >= greater than or Equal to"
   ]
  },
  {
   "cell_type": "code",
   "execution_count": 71,
   "id": "f9157526-6a63-47b2-8fe4-a585f8886a60",
   "metadata": {},
   "outputs": [
    {
     "data": {
      "text/plain": [
       "False"
      ]
     },
     "execution_count": 71,
     "metadata": {},
     "output_type": "execute_result"
    }
   ],
   "source": [
    "# Equal to\n",
    "10 == 10  # True: 10 is equal to 10\n",
    "10 == 50  # False: 10 is not equal to 50"
   ]
  },
  {
   "cell_type": "code",
   "execution_count": 72,
   "id": "39ce0e4b-41cb-4549-95ae-adb16b6a7807",
   "metadata": {},
   "outputs": [
    {
     "data": {
      "text/plain": [
       "True"
      ]
     },
     "execution_count": 72,
     "metadata": {},
     "output_type": "execute_result"
    }
   ],
   "source": [
    "# Not equal to\n",
    "10 != 50  # True: 10 is not equal to 50\n",
    "'gelato' != 'coffee'  # True: 'gelato' is not the same as 'coffee'"
   ]
  },
  {
   "cell_type": "code",
   "execution_count": 73,
   "id": "72fa4638-6b1b-4036-b368-3a31e9a0e68a",
   "metadata": {},
   "outputs": [],
   "source": [
    "# Assigning variables for comparison\n",
    "x = 'gelato'\n",
    "y = 'coffee'"
   ]
  },
  {
   "cell_type": "code",
   "execution_count": 74,
   "id": "cb47998e-c08a-4eb4-a4eb-fd92b5fc923c",
   "metadata": {},
   "outputs": [
    {
     "data": {
      "text/plain": [
       "True"
      ]
     },
     "execution_count": 74,
     "metadata": {},
     "output_type": "execute_result"
    }
   ],
   "source": [
    "x == y  # False: 'gelato' is not equal to 'coffee'\n",
    "x != y  # True: 'gelato' is different from 'coffee'"
   ]
  },
  {
   "cell_type": "code",
   "execution_count": 75,
   "id": "7417e894-490a-40bd-ba5a-232451c4240f",
   "metadata": {},
   "outputs": [
    {
     "data": {
      "text/plain": [
       "True"
      ]
     },
     "execution_count": 75,
     "metadata": {},
     "output_type": "execute_result"
    }
   ],
   "source": [
    "# Greater than and less than\n",
    "10 < 50  # True: 10 is less than 50\n",
    "10 < 10  # False: 10 is not less than 10\n",
    "10 <= 10  # True: 10 is less than or equal to 10"
   ]
  },
  {
   "cell_type": "markdown",
   "id": "ee656d93-e142-456a-8e49-b9c46b298cf9",
   "metadata": {},
   "source": [
    "### Logical Operators"
   ]
  },
  {
   "cell_type": "code",
   "execution_count": 77,
   "id": "3d4b082a-cb4f-4423-9779-e9a6d7383799",
   "metadata": {},
   "outputs": [
    {
     "data": {
      "text/plain": [
       "True"
      ]
     },
     "execution_count": 77,
     "metadata": {},
     "output_type": "execute_result"
    }
   ],
   "source": [
    "# AND operator: True only if both conditions are true\n",
    "(10 > 50) and (50 > 10)  # False: The first condition is false\n",
    "(100 > 60) and (50 > 10)  # True: Both conditions are true"
   ]
  },
  {
   "cell_type": "code",
   "execution_count": 78,
   "id": "8625f75c-6df8-4e31-8874-40064f0cfe51",
   "metadata": {},
   "outputs": [
    {
     "data": {
      "text/plain": [
       "True"
      ]
     },
     "execution_count": 78,
     "metadata": {},
     "output_type": "execute_result"
    }
   ],
   "source": [
    "# OR operator: True if at least one condition is true\n",
    "(10 > 50) or (50 > 10)  # True: The second condition is true\n",
    "('book' > 'mouse') or (50 > 10)  # True: The second condition is true"
   ]
  },
  {
   "cell_type": "code",
   "execution_count": 79,
   "id": "4d8c800c-7261-4bd9-9169-20027094a312",
   "metadata": {},
   "outputs": [
    {
     "data": {
      "text/plain": [
       "False"
      ]
     },
     "execution_count": 79,
     "metadata": {},
     "output_type": "execute_result"
    }
   ],
   "source": [
    "# AND operator: Both conditions must be true\n",
    "('book' > 'mouse') and (50 > 10)  # False: The first condition is false"
   ]
  },
  {
   "cell_type": "code",
   "execution_count": 80,
   "id": "99567505-5646-4ff0-b2b8-84ba458348fd",
   "metadata": {},
   "outputs": [
    {
     "data": {
      "text/plain": [
       "True"
      ]
     },
     "execution_count": 80,
     "metadata": {},
     "output_type": "execute_result"
    }
   ],
   "source": [
    "# NOT operator: Reverses the result\n",
    "not (10 > 50)  # True: The original condition is false, so NOT makes it true"
   ]
  },
  {
   "cell_type": "markdown",
   "id": "3f6c9955-a8ad-41b5-892f-9b7a048a24fa",
   "metadata": {},
   "source": [
    "### Memberships Operators"
   ]
  },
  {
   "cell_type": "code",
   "execution_count": 82,
   "id": "9c2a951c-9b9f-49c4-9c02-352aae1e6044",
   "metadata": {},
   "outputs": [
    {
     "data": {
      "text/plain": [
       "True"
      ]
     },
     "execution_count": 82,
     "metadata": {},
     "output_type": "execute_result"
    }
   ],
   "source": [
    "# Using 'in' to check if a word is present in a string\n",
    "my_daily_life = 'I am working on my thesis'\n",
    "'thesis' in my_daily_life  # True: 'thesis' is found in the string"
   ]
  },
  {
   "cell_type": "code",
   "execution_count": 83,
   "id": "9123ff55-f413-48a3-822d-42a5026377f9",
   "metadata": {},
   "outputs": [
    {
     "data": {
      "text/plain": [
       "True"
      ]
     },
     "execution_count": 83,
     "metadata": {},
     "output_type": "execute_result"
    }
   ],
   "source": [
    "# Another example with the same result\n",
    "'thesis' in 'I am working on my thesis'  # True"
   ]
  },
  {
   "cell_type": "code",
   "execution_count": 84,
   "id": "b65e0820-a99c-4e16-be13-894dcc12c0aa",
   "metadata": {},
   "outputs": [
    {
     "data": {
      "text/plain": [
       "True"
      ]
     },
     "execution_count": 84,
     "metadata": {},
     "output_type": "execute_result"
    }
   ],
   "source": [
    "# Using 'in' to check if an element exists in a list\n",
    "my_daily_routine = [1, 2, 3, 4]\n",
    "1 in my_daily_routine  # True: 1 is an element of the list"
   ]
  },
  {
   "cell_type": "code",
   "execution_count": 85,
   "id": "530100b9-58d0-439f-ba3e-ec161e2d0212",
   "metadata": {},
   "outputs": [
    {
     "data": {
      "text/plain": [
       "True"
      ]
     },
     "execution_count": 85,
     "metadata": {},
     "output_type": "execute_result"
    }
   ],
   "source": [
    "# Using 'not in' to check if an element is missing from a list\n",
    "specific_day = 5\n",
    "6 not in my_daily_routine  # True: 6 is not in the list\n",
    "specific_day not in my_daily_routine  # True: 5 is not in the list"
   ]
  }
 ],
 "metadata": {
  "kernelspec": {
   "display_name": "Python 3 (ipykernel)",
   "language": "python",
   "name": "python3"
  },
  "language_info": {
   "codemirror_mode": {
    "name": "ipython",
    "version": 3
   },
   "file_extension": ".py",
   "mimetype": "text/x-python",
   "name": "python",
   "nbconvert_exporter": "python",
   "pygments_lexer": "ipython3",
   "version": "3.12.4"
  }
 },
 "nbformat": 4,
 "nbformat_minor": 5
}
