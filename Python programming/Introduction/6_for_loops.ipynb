{
 "cells": [
  {
   "cell_type": "markdown",
   "id": "34e2d48f-5619-407d-a366-b97c803778ee",
   "metadata": {},
   "source": [
    "# For Loops"
   ]
  },
  {
   "cell_type": "markdown",
   "id": "596652e0-afd8-43a0-89a8-05c6cbe9cc7f",
   "metadata": {},
   "source": [
    "### For loop in \"Lists\""
   ]
  },
  {
   "cell_type": "code",
   "execution_count": 9,
   "id": "e3414246-10b8-4aac-b1d4-14db2981fe5f",
   "metadata": {},
   "outputs": [
    {
     "name": "stdout",
     "output_type": "stream",
     "text": [
      "1\n",
      "2\n",
      "3\n",
      "4\n",
      "5\n"
     ]
    }
   ],
   "source": [
    "# Iterate through a list of integers and print each element\n",
    "integers = [1, 2, 3, 4, 5]\n",
    "for number in integers:\n",
    "    print(number)"
   ]
  },
  {
   "cell_type": "code",
   "execution_count": 53,
   "id": "f7972cff-ef22-4610-b2d6-2ac693e989fb",
   "metadata": {},
   "outputs": [
    {
     "name": "stdout",
     "output_type": "stream",
     "text": [
      "Si, Certo!\n",
      "Si, Certo!\n",
      "Si, Certo!\n",
      "Si, Certo!\n",
      "Si, Certo!\n"
     ]
    }
   ],
   "source": [
    "# Iterate through a list and print \"Si!\" for each element\n",
    "integers = [1, 2, 3, 4, 5]\n",
    "for number in integers:\n",
    "    print('Si, Certo!')"
   ]
  },
  {
   "cell_type": "code",
   "execution_count": 21,
   "id": "4323dbcf-cb31-4c96-88eb-d12ad308b147",
   "metadata": {},
   "outputs": [
    {
     "name": "stdout",
     "output_type": "stream",
     "text": [
      "1\n",
      "4\n",
      "9\n",
      "16\n",
      "25\n"
     ]
    }
   ],
   "source": [
    "# Iterate through a list and print the square of each element\n",
    "integers = [1, 2, 3, 4, 5]\n",
    "for i in integers:\n",
    "    print(i * i)"
   ]
  },
  {
   "cell_type": "markdown",
   "id": "fed42514-b7b5-4413-95a8-5c17f5305ae4",
   "metadata": {},
   "source": [
    "### For loops in \"Dictionary\""
   ]
  },
  {
   "cell_type": "code",
   "execution_count": 55,
   "id": "88d7c4d8-b8f4-44ae-96bf-958ccb804926",
   "metadata": {},
   "outputs": [
    {
     "name": "stdout",
     "output_type": "stream",
     "text": [
      "name ----> Sepideh Hayati\n",
      "weekly intake ----> 7\n",
      "favorite drink ----> ['americano', 'cappuccino']\n"
     ]
    }
   ],
   "source": [
    "# Iterate through both keys and values of a dictionary and print them in a formatted way\n",
    "drink_dict = {'name': 'Sepideh Hayati', 'weekly intake': 7, 'favorite drink': ['americano', 'cappuccino']}\n",
    "for key, value in drink_dict.items():\n",
    "    print(key, '---->', value)"
   ]
  },
  {
   "cell_type": "markdown",
   "id": "311b08d9-ffff-4346-b481-37fb33281fc1",
   "metadata": {},
   "source": [
    "### For loops in \"Nested\" "
   ]
  },
  {
   "cell_type": "code",
   "execution_count": 59,
   "id": "86119900-d372-449e-ae17-352934e7e7a3",
   "metadata": {},
   "outputs": [
    {
     "name": "stdout",
     "output_type": "stream",
     "text": [
      "Marco is a Manager\n",
      "Marco is a business man\n",
      "Marco is a master student\n",
      "Marco is a between jobs\n",
      "Davide is a Manager\n",
      "Davide is a business man\n",
      "Davide is a master student\n",
      "Davide is a between jobs\n",
      "vito is a Manager\n",
      "vito is a business man\n",
      "vito is a master student\n",
      "vito is a between jobs\n",
      "Mariana is a Manager\n",
      "Mariana is a business man\n",
      "Mariana is a master student\n",
      "Mariana is a between jobs\n"
     ]
    }
   ],
   "source": [
    "# Nested loops: Combine every user with every job and print the pair\n",
    "users = ['Marco', 'Davide', 'vito', 'Mariana']\n",
    "jobs = ['Manager', 'business man', 'master student', 'between jobs']\n",
    "\n",
    "for u in users:\n",
    "    for j in jobs:\n",
    "        print(u, 'is a', j)"
   ]
  },
  {
   "cell_type": "code",
   "execution_count": null,
   "id": "f4afd6fd-4b59-40fe-b214-58a50aa4ced0",
   "metadata": {},
   "outputs": [],
   "source": []
  }
 ],
 "metadata": {
  "kernelspec": {
   "display_name": "Python 3 (ipykernel)",
   "language": "python",
   "name": "python3"
  },
  "language_info": {
   "codemirror_mode": {
    "name": "ipython",
    "version": 3
   },
   "file_extension": ".py",
   "mimetype": "text/x-python",
   "name": "python",
   "nbconvert_exporter": "python",
   "pygments_lexer": "ipython3",
   "version": "3.12.4"
  }
 },
 "nbformat": 4,
 "nbformat_minor": 5
}
