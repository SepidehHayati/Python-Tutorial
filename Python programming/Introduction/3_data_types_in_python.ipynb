{
 "cells": [
  {
   "cell_type": "markdown",
   "id": "f827b5d4-0cfc-4dd0-989f-a72fd05ebea1",
   "metadata": {},
   "source": [
    "## Data Types:"
   ]
  },
  {
   "cell_type": "code",
   "execution_count": 4,
   "id": "1c063afb-8c02-4339-bbb9-0dbdc79a7beb",
   "metadata": {},
   "outputs": [],
   "source": [
    "#Data Types: Python supports multiple types such as:\n",
    "\n",
    "#integers (int), \n",
    "#floating-point numbers (float), \n",
    "#complex numbers (complex), \n",
    "#booleans (bool), \n",
    "#and strings (str)."
   ]
  },
  {
   "cell_type": "code",
   "execution_count": 7,
   "id": "ee3b3255-7367-4988-b6b3-035ec8ec9150",
   "metadata": {},
   "outputs": [
    {
     "name": "stdout",
     "output_type": "stream",
     "text": [
      "<class 'int'>\n",
      "<class 'float'>\n",
      "<class 'str'>\n",
      "<class 'float'>\n",
      "<class 'int'>\n",
      "<class 'float'>\n",
      "<class 'complex'>\n"
     ]
    }
   ],
   "source": [
    "# Checking types of different values\n",
    "print(type(10))           # int\n",
    "print(type(0.2))          # float\n",
    "print(type('fa caldo'))    # str\n",
    "print(type(0.000001))      # float\n",
    "print(type(-12 + 100))     # int\n",
    "print(type(12 + 10.25))    # float\n",
    "print(type(12 + 3j))       # complex  (j is the imaginary number in Python)"
   ]
  },
  {
   "cell_type": "code",
   "execution_count": 9,
   "id": "88c2f637-dba2-490d-959c-534d3353d86d",
   "metadata": {},
   "outputs": [
    {
     "name": "stdout",
     "output_type": "stream",
     "text": [
      "<class 'bool'>\n",
      "<class 'bool'>\n"
     ]
    }
   ],
   "source": [
    "# Boolean: Represents truth values (True or False)\n",
    "print(type(False))         # bool (capital F in False)\n",
    "print(type(True))          # bool (capital T in True)"
   ]
  },
  {
   "cell_type": "code",
   "execution_count": 11,
   "id": "366cfe25-459d-4c36-9e55-bc4f894d54a3",
   "metadata": {},
   "outputs": [
    {
     "name": "stdout",
     "output_type": "stream",
     "text": [
      "<class 'bool'>\n",
      "False\n",
      "True\n"
     ]
    }
   ],
   "source": [
    "# Booleans often result from comparison operations\n",
    "print(type(1 > 5))         # bool\n",
    "print(1 > 5)               # False\n",
    "print(1 == 1)              # True"
   ]
  },
  {
   "cell_type": "markdown",
   "id": "68d6968a-febc-41ed-b35a-089f79620f21",
   "metadata": {},
   "source": [
    "## String"
   ]
  },
  {
   "cell_type": "code",
   "execution_count": 13,
   "id": "4431b73f-774d-427a-aac6-59674e2ae28b",
   "metadata": {},
   "outputs": [
    {
     "name": "stdout",
     "output_type": "stream",
     "text": [
      "single quote\n",
      "Double quote\n"
     ]
    }
   ],
   "source": [
    "# Strings: Textual data enclosed in single ('') or double (\"\") quotes.\n",
    "print('single quote')      # Single quote string\n",
    "print(\"Double quote\")      # Double quote string\n"
   ]
  },
  {
   "cell_type": "code",
   "execution_count": 15,
   "id": "c1dd2838-80ac-4313-8a92-e2253ea503a4",
   "metadata": {},
   "outputs": [
    {
     "name": "stdout",
     "output_type": "stream",
     "text": [
      "\n",
      "Today is a good day.\n",
      "I am working on my thesis.\n",
      "I try to review Python for data analysis.\n",
      "\n"
     ]
    }
   ],
   "source": [
    "# Multiline string using triple quotes\n",
    "multiline = \"\"\"\n",
    "Today is a good day.\n",
    "I am working on my thesis.\n",
    "I try to review Python for data analysis.\n",
    "\"\"\"\n",
    "print(multiline)"
   ]
  },
  {
   "cell_type": "code",
   "execution_count": 17,
   "id": "e550f465-a0d8-409c-bf6d-06bf18d9ac76",
   "metadata": {},
   "outputs": [
    {
     "name": "stdout",
     "output_type": "stream",
     "text": [
      "I've been trying to learn deep learning\n"
     ]
    }
   ],
   "source": [
    "# Handling quotes in strings: Using double quotes around single quotes avoids issues\n",
    "print(\"I've been trying to learn deep learning\")  # Correct usage\n"
   ]
  },
  {
   "cell_type": "code",
   "execution_count": 19,
   "id": "c6a51e99-4ed9-4c43-bda3-3102d9c749d5",
   "metadata": {},
   "outputs": [
    {
     "name": "stdout",
     "output_type": "stream",
     "text": [
      "hello\n",
      "hello\n",
      "llo\n",
      "world!\n",
      "w\n",
      "l\n"
     ]
    }
   ],
   "source": [
    "# String indexing and slicing\n",
    "a = 'hello world!'\n",
    "print(a[:5])  # 'hello' (first 5 characters)\n",
    "print(a[0:5]) # 'hello' (same as above)\n",
    "print(a[2:5]) # 'llo' (characters from index 2 to 4)\n",
    "print(a[6:])  # 'world!' (from index 6 to the end)\n",
    "print(a[6])   # 'w' (character at index 6)\n",
    "print(a[-3])  # 'l' (third character from the end)"
   ]
  },
  {
   "cell_type": "code",
   "execution_count": 21,
   "id": "af71d2f2-cbfc-49cb-ab29-0f9b17a9ca6b",
   "metadata": {},
   "outputs": [
    {
     "name": "stdout",
     "output_type": "stream",
     "text": [
      "hello world!hello world!hello world!\n",
      "hello world!hello world!\n"
     ]
    }
   ],
   "source": [
    "# String repetition and concatenation\n",
    "print(a * 3)  # Repeats the string 3 times\n",
    "print(a + a)  # Concatenates the string to itself\n"
   ]
  },
  {
   "cell_type": "markdown",
   "id": "67a3f318-ba4c-4638-8974-1fc5431c09b0",
   "metadata": {},
   "source": [
    "## List:"
   ]
  },
  {
   "cell_type": "code",
   "execution_count": 23,
   "id": "d0417621-4450-4b7c-b19b-40a0bbd6f7d9",
   "metadata": {},
   "outputs": [
    {
     "name": "stdout",
     "output_type": "stream",
     "text": [
      "[1, 2, 3]\n",
      "['cookie', 'tea', 'gelato']\n",
      "['chocolate', 3, ['saffron', 'spoon'], True]\n"
     ]
    }
   ],
   "source": [
    "# Lists: Mutable, ordered collections that can contain heterogeneous elements.\n",
    "print([1, 2, 3])  # List of integers\n",
    "print(['cookie', 'tea', 'gelato'])  # List of strings\n",
    "print(['chocolate', 3, ['saffron', 'spoon'], True])  # Mixed-type list\n"
   ]
  },
  {
   "cell_type": "code",
   "execution_count": 25,
   "id": "d150d834-539b-4256-a4d3-3531e71e4932",
   "metadata": {},
   "outputs": [
    {
     "name": "stdout",
     "output_type": "stream",
     "text": [
      "['cookie', 'tea', 'gelato', 'cake']\n"
     ]
    }
   ],
   "source": [
    "# Modifying lists\n",
    "ice_cream = ['cookie', 'tea', 'gelato']\n",
    "ice_cream.append('cake')  # Adding an element to the list\n",
    "print(ice_cream)"
   ]
  },
  {
   "cell_type": "code",
   "execution_count": 27,
   "id": "c3f931ec-0997-4239-b28c-eff83c3e3cd8",
   "metadata": {},
   "outputs": [
    {
     "name": "stdout",
     "output_type": "stream",
     "text": [
      "['cheesecake', 'tea', 'gelato', 'cake']\n"
     ]
    }
   ],
   "source": [
    "# Replacing an element in the list\n",
    "ice_cream[0] = 'cheesecake'\n",
    "print(ice_cream)"
   ]
  },
  {
   "cell_type": "markdown",
   "id": "496da916-f56b-4832-a0a7-4f02cdc2b337",
   "metadata": {},
   "source": [
    "## Nested List:"
   ]
  },
  {
   "cell_type": "code",
   "execution_count": 29,
   "id": "15d875cf-b004-4b52-b1ab-6343226e4551",
   "metadata": {},
   "outputs": [
    {
     "name": "stdout",
     "output_type": "stream",
     "text": [
      "['saffron', 'spoon']\n",
      "spoon\n"
     ]
    }
   ],
   "source": [
    "# Nested list: A list within a list\n",
    "nested_list = ['chocolate', 3, ['saffron', 'spoon'], True]\n",
    "print(nested_list[2])       # Accessing the nested list ['saffron', 'spoon']\n",
    "print(nested_list[2][1])    # Accessing an element from the nested list: 'spoon'"
   ]
  },
  {
   "cell_type": "markdown",
   "id": "ebc1ab1d-928f-4683-b483-2385107ba415",
   "metadata": {},
   "source": [
    "## Tuples:"
   ]
  },
  {
   "cell_type": "code",
   "execution_count": 31,
   "id": "b7ab0923-23ca-45d4-bbf6-a9c61dd50cac",
   "metadata": {},
   "outputs": [
    {
     "name": "stdout",
     "output_type": "stream",
     "text": [
      "<class 'tuple'>\n",
      "1\n"
     ]
    }
   ],
   "source": [
    "# Tuples: Immutable ordered collections. Cannot be changed once created.\n",
    "tuple_scoops = (1, 2, 3, 2, 1)\n",
    "print(type(tuple_scoops))  # tuple\n",
    "print(tuple_scoops[0])     # Accessing elements by index\n"
   ]
  },
  {
   "cell_type": "markdown",
   "id": "2f9ee6a6-d54a-40cb-935b-28bbe8543763",
   "metadata": {},
   "source": [
    "## Sets:"
   ]
  },
  {
   "cell_type": "code",
   "execution_count": 33,
   "id": "0b287c1e-b1fe-46ac-a766-e474f6e270bf",
   "metadata": {},
   "outputs": [
    {
     "name": "stdout",
     "output_type": "stream",
     "text": [
      "<class 'set'>\n",
      "{1, 2, 3}\n"
     ]
    }
   ],
   "source": [
    "# Sets: Unordered collections of unique elements, do not support indexing.\n",
    "daily_books = {1, 2, 3}\n",
    "print(type(daily_books))   # set\n",
    "print(daily_books)"
   ]
  },
  {
   "cell_type": "code",
   "execution_count": 35,
   "id": "1feb1e2d-ede5-4f16-b952-cda00c3bf373",
   "metadata": {},
   "outputs": [],
   "source": [
    "# Operations with sets\n",
    "my_daily_life = {1, 2, 3, 4, 5, 6}\n",
    "my_friend_daily_life = {10, 9, 8, 7, 6, 5, 4}"
   ]
  },
  {
   "cell_type": "code",
   "execution_count": 37,
   "id": "d9a8921e-add6-437b-ad8b-e280aea9fd0d",
   "metadata": {},
   "outputs": [
    {
     "name": "stdout",
     "output_type": "stream",
     "text": [
      "{1, 2, 3, 4, 5, 6, 7, 8, 9, 10}\n"
     ]
    }
   ],
   "source": [
    "# Union of two sets: combines unique values from both sets\n",
    "print(my_daily_life | my_friend_daily_life)  # {1, 2, 3, 4, 5, 6, 7, 8, 9, 10}"
   ]
  },
  {
   "cell_type": "code",
   "execution_count": 39,
   "id": "d0568811-ba4f-4f28-83e5-b3f7857cccc0",
   "metadata": {},
   "outputs": [
    {
     "name": "stdout",
     "output_type": "stream",
     "text": [
      "{4, 5, 6}\n"
     ]
    }
   ],
   "source": [
    "# Intersection: values common in both sets\n",
    "print(my_daily_life & my_friend_daily_life)  # {4, 5, 6}"
   ]
  },
  {
   "cell_type": "code",
   "execution_count": 41,
   "id": "64e913c5-00d0-4631-abb0-7d355fce3ad5",
   "metadata": {},
   "outputs": [
    {
     "name": "stdout",
     "output_type": "stream",
     "text": [
      "{1, 2, 3}\n"
     ]
    }
   ],
   "source": [
    "# Difference: values in my_daily_life but not in my_friend_daily_life\n",
    "print(my_daily_life - my_friend_daily_life)  # {1, 2, 3}"
   ]
  },
  {
   "cell_type": "code",
   "execution_count": 43,
   "id": "4fcebd88-33df-433a-b018-d9af2ee70f00",
   "metadata": {},
   "outputs": [
    {
     "name": "stdout",
     "output_type": "stream",
     "text": [
      "{1, 2, 3, 7, 8, 9, 10}\n"
     ]
    }
   ],
   "source": [
    "# Symmetric Difference: values unique to each set\n",
    "print(my_friend_daily_life ^ my_daily_life)  # {1, 2, 3, 7, 8, 9, 10}"
   ]
  },
  {
   "cell_type": "markdown",
   "id": "e49d2610-e2b9-49fe-8d5e-6e2278294619",
   "metadata": {},
   "source": [
    "## Dictionary:"
   ]
  },
  {
   "cell_type": "code",
   "execution_count": 45,
   "id": "bb74b970-fea3-4916-a806-a545da8d3f75",
   "metadata": {},
   "outputs": [
    {
     "name": "stdout",
     "output_type": "stream",
     "text": [
      "<class 'dict'>\n",
      "{'name': 'strawberry', 'weekly intake': 5, 'favorite ice cream': ['gelato', 'orange']}\n"
     ]
    }
   ],
   "source": [
    "# Dictionaries: Collections of key-value pairs, mutable and unordered.\n",
    "dict_cream = {\n",
    "    'name': 'strawberry', \n",
    "    'weekly intake': 5, \n",
    "    'favorite ice cream': ['gelato', 'orange']\n",
    "}\n",
    "print(type(dict_cream))    # dict\n",
    "print(dict_cream)"
   ]
  },
  {
   "cell_type": "code",
   "execution_count": 47,
   "id": "2bd82d6b-0868-4ba1-94fd-67c727cddaf6",
   "metadata": {},
   "outputs": [
    {
     "name": "stdout",
     "output_type": "stream",
     "text": [
      "strawberry\n"
     ]
    }
   ],
   "source": [
    "# Accessing values by key\n",
    "print(dict_cream['name'])  # 'strawberry'"
   ]
  },
  {
   "cell_type": "code",
   "execution_count": 49,
   "id": "fd153d44-6e42-4517-8c41-e637741a3bf0",
   "metadata": {},
   "outputs": [
    {
     "name": "stdout",
     "output_type": "stream",
     "text": [
      "{'name': 'pink gelato', 'weekly intake': 5, 'favorite ice cream': ['gelato', 'orange']}\n"
     ]
    }
   ],
   "source": [
    "# Modifying a dictionary value\n",
    "dict_cream['name'] = 'pink gelato'\n",
    "print(dict_cream)"
   ]
  },
  {
   "cell_type": "code",
   "execution_count": 65,
   "id": "7431a590-7012-4133-82f3-959e03bbeb17",
   "metadata": {},
   "outputs": [
    {
     "name": "stdout",
     "output_type": "stream",
     "text": [
      "{'weekly intake': 6, 'favorite ice cream': ['gelato', 'orange'], 'favorite drink': ['cocktail', 'pepsi'], 'name': 'pink G'}\n"
     ]
    }
   ],
   "source": [
    "# Adding and updating entries in the dictionary\n",
    "dict_cream.update({'name': 'pink G', 'weekly intake': 6, 'favorite drink': ['cocktail', 'pepsi']})\n",
    "print(dict_cream)\n"
   ]
  },
  {
   "cell_type": "code",
   "execution_count": 67,
   "id": "ac35593d-2c09-42c2-bb9c-9f49d5cb5d3c",
   "metadata": {},
   "outputs": [
    {
     "name": "stdout",
     "output_type": "stream",
     "text": [
      "{'weekly intake': 6, 'favorite ice cream': ['gelato', 'orange'], 'favorite drink': ['cocktail', 'pepsi']}\n"
     ]
    }
   ],
   "source": [
    "# Deleting a key-value pair from the dictionary\n",
    "del dict_cream['name']\n",
    "print(dict_cream)"
   ]
  },
  {
   "cell_type": "raw",
   "id": "aa3b113f-e2e2-4cc9-ac77-1433499b20be",
   "metadata": {},
   "source": [
    "Comparison:\n",
    "Type\t    Ordered?\tMutable?\tDuplicates?\t  Access Method\n",
    "List\t    Yes\t          Yes\t       Yes\t          Index\n",
    "Tuple   \tYes\t           No\t       Yes\t          Index\n",
    "Set\t        No\t          Yes\t        No\t        No Indexing\n",
    "Dic\t        No\t          Yes\t       Keys: No\t  Access by key\n",
    "String\t    Yes\t           No\t       Yes\t          Index"
   ]
  },
  {
   "cell_type": "code",
   "execution_count": null,
   "id": "c9e94c82-2741-4dcf-9331-4a8305f87aa6",
   "metadata": {},
   "outputs": [],
   "source": []
  }
 ],
 "metadata": {
  "kernelspec": {
   "display_name": "Python 3 (ipykernel)",
   "language": "python",
   "name": "python3"
  },
  "language_info": {
   "codemirror_mode": {
    "name": "ipython",
    "version": 3
   },
   "file_extension": ".py",
   "mimetype": "text/x-python",
   "name": "python",
   "nbconvert_exporter": "python",
   "pygments_lexer": "ipython3",
   "version": "3.12.4"
  }
 },
 "nbformat": 4,
 "nbformat_minor": 5
}


