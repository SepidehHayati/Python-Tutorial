{
 "cells": [
  {
   "cell_type": "markdown",
   "id": "d2b060a7-e0eb-4960-9ad1-76d9bfa18674",
   "metadata": {},
   "source": [
    "\n",
    "### This script demonstrates basic NumPy operations such as:\n",
    "##### \"NumPy Array Indexing\", \"Slicing\", and \"Conditional Selection\":\n"
   ]
  },
  {
   "cell_type": "markdown",
   "id": "dca85adb-81d5-489c-ae82-1f8035f4ae92",
   "metadata": {},
   "source": [
    "### 1. Indexing and selecting elements from 1D and 2D arrays.\n"
   ]
  },
  {
   "cell_type": "code",
   "execution_count": 585,
   "id": "ad5e0606-8fe1-45e6-9a07-20484dac8788",
   "metadata": {},
   "outputs": [
    {
     "data": {
      "text/plain": [
       "array([0, 1, 2, 3, 4, 5, 6, 7, 8, 9])"
      ]
     },
     "execution_count": 585,
     "metadata": {},
     "output_type": "execute_result"
    }
   ],
   "source": [
    "# Creating a NumPy array from a range of values\n",
    "\n",
    "arr_arrange = np.arange(0,10)\n",
    "arr_arrange"
   ]
  },
  {
   "cell_type": "code",
   "execution_count": 586,
   "id": "35f2daa8-d0b9-4ab6-bff2-fedbefcc4ce1",
   "metadata": {},
   "outputs": [
    {
     "data": {
      "text/plain": [
       "8"
      ]
     },
     "execution_count": 586,
     "metadata": {},
     "output_type": "execute_result"
    }
   ],
   "source": [
    "# Accessing elements using indexing\n",
    "arr_arrange[8]"
   ]
  },
  {
   "cell_type": "code",
   "execution_count": 587,
   "id": "45bb7ec0-e313-4311-8fbb-be4b53cb364c",
   "metadata": {},
   "outputs": [
    {
     "data": {
      "text/plain": [
       "array([0, 1, 2, 3, 4])"
      ]
     },
     "execution_count": 587,
     "metadata": {},
     "output_type": "execute_result"
    }
   ],
   "source": [
    "arr_arrange[0:5]\n"
   ]
  },
  {
   "cell_type": "code",
   "execution_count": 588,
   "id": "d940aebe-ee69-4684-9c5a-28521cfe0a56",
   "metadata": {},
   "outputs": [
    {
     "data": {
      "text/plain": [
       "array([0, 1, 2, 3, 4])"
      ]
     },
     "execution_count": 588,
     "metadata": {},
     "output_type": "execute_result"
    }
   ],
   "source": [
    "arr_arrange [:5]\n"
   ]
  },
  {
   "cell_type": "code",
   "execution_count": 589,
   "id": "58a9df37-4260-44ef-a43b-2e47be4f6f21",
   "metadata": {},
   "outputs": [
    {
     "data": {
      "text/plain": [
       "array([5, 6, 7, 8, 9])"
      ]
     },
     "execution_count": 589,
     "metadata": {},
     "output_type": "execute_result"
    }
   ],
   "source": [
    "arr_arrange[5:]\n"
   ]
  },
  {
   "cell_type": "code",
   "execution_count": 590,
   "id": "3480bd02-b8c8-4728-aa3a-08e25e82159a",
   "metadata": {},
   "outputs": [
    {
     "data": {
      "text/plain": [
       "array([5, 6, 7, 8, 9])"
      ]
     },
     "execution_count": 590,
     "metadata": {},
     "output_type": "execute_result"
    }
   ],
   "source": [
    "arr_arrange[5:10]"
   ]
  },
  {
   "cell_type": "markdown",
   "id": "82481ea0-48d3-4078-a779-4bef6c5e9bb7",
   "metadata": {},
   "source": [
    "### 2. Modifying array elements using slicing and broadcasting.\n"
   ]
  },
  {
   "cell_type": "markdown",
   "id": "0014e427-c15a-4f5f-98c7-f5cc7568d085",
   "metadata": {},
   "source": [
    "##### broadcasting"
   ]
  },
  {
   "cell_type": "code",
   "execution_count": 593,
   "id": "f73c474a-8191-4eea-98c6-857884c0c02a",
   "metadata": {},
   "outputs": [
    {
     "data": {
      "text/plain": [
       "array([0, 1, 2, 3, 4, 5, 6, 7, 8, 9])"
      ]
     },
     "execution_count": 593,
     "metadata": {},
     "output_type": "execute_result"
    }
   ],
   "source": [
    "arr_arrange"
   ]
  },
  {
   "cell_type": "code",
   "execution_count": 594,
   "id": "469e022b-3dc2-4c33-a032-8a036a196613",
   "metadata": {},
   "outputs": [],
   "source": [
    "# Broadcasting: modifying a section of the array\n",
    "arr_arrange[5:10] = 100"
   ]
  },
  {
   "cell_type": "code",
   "execution_count": 595,
   "id": "8f4d5d04-ee4b-4a01-8390-f67a51cd2c63",
   "metadata": {},
   "outputs": [
    {
     "data": {
      "text/plain": [
       "array([  0,   1,   2,   3,   4, 100, 100, 100, 100, 100])"
      ]
     },
     "execution_count": 595,
     "metadata": {},
     "output_type": "execute_result"
    }
   ],
   "source": [
    "arr_arrange"
   ]
  },
  {
   "cell_type": "code",
   "execution_count": 596,
   "id": "b599c310-a691-4713-b501-5e3e310b6604",
   "metadata": {},
   "outputs": [],
   "source": [
    "arr = np.arange (0,11)"
   ]
  },
  {
   "cell_type": "code",
   "execution_count": 597,
   "id": "62931b93-cbaf-483d-a9b2-91836a35cabf",
   "metadata": {},
   "outputs": [],
   "source": [
    "slice_of_arry = arr [0:5]"
   ]
  },
  {
   "cell_type": "markdown",
   "id": "f0c05594-253f-4770-b2cb-2017c6303ffc",
   "metadata": {},
   "source": [
    "##### Slicing"
   ]
  },
  {
   "cell_type": "code",
   "execution_count": 599,
   "id": "1dff7446-76ba-4099-972b-0e2fca72044e",
   "metadata": {},
   "outputs": [
    {
     "data": {
      "text/plain": [
       "array([0, 1, 2, 3, 4])"
      ]
     },
     "execution_count": 599,
     "metadata": {},
     "output_type": "execute_result"
    }
   ],
   "source": [
    "slice_of_arry"
   ]
  },
  {
   "cell_type": "code",
   "execution_count": 600,
   "id": "6946073a-a25b-4b6b-ba85-767d545fd99e",
   "metadata": {},
   "outputs": [
    {
     "data": {
      "text/plain": [
       "array([ 0,  1,  2,  3,  4,  5,  6,  7,  8,  9, 10])"
      ]
     },
     "execution_count": 600,
     "metadata": {},
     "output_type": "execute_result"
    }
   ],
   "source": [
    "arr"
   ]
  },
  {
   "cell_type": "code",
   "execution_count": 601,
   "id": "873ed7ed-35eb-49ab-9346-ebd08efdce8a",
   "metadata": {},
   "outputs": [],
   "source": [
    "# Creating and modifying slices\n",
    "# the slice of Arry has affected the original array\n",
    "\n",
    "slice_of_arry [:] = 99 # to select everything"
   ]
  },
  {
   "cell_type": "code",
   "execution_count": 602,
   "id": "1a120f25-9027-4c20-bfd7-0e07f4ed145e",
   "metadata": {},
   "outputs": [
    {
     "data": {
      "text/plain": [
       "array([99, 99, 99, 99, 99])"
      ]
     },
     "execution_count": 602,
     "metadata": {},
     "output_type": "execute_result"
    }
   ],
   "source": [
    "slice_of_arry"
   ]
  },
  {
   "cell_type": "code",
   "execution_count": 603,
   "id": "97142731-d69a-45e3-b23c-811617521690",
   "metadata": {},
   "outputs": [
    {
     "data": {
      "text/plain": [
       "array([99, 99, 99, 99, 99,  5,  6,  7,  8,  9, 10])"
      ]
     },
     "execution_count": 603,
     "metadata": {},
     "output_type": "execute_result"
    }
   ],
   "source": [
    "arr"
   ]
  },
  {
   "cell_type": "markdown",
   "id": "cd49ab45-ce63-4351-8887-a90fe5046a9f",
   "metadata": {},
   "source": [
    "##### Creating a copy of an array and understanding the effect of slicing on the original array.\n"
   ]
  },
  {
   "cell_type": "code",
   "execution_count": 605,
   "id": "a4342ab4-ae02-4ce0-bd9b-cfb50f392a69",
   "metadata": {},
   "outputs": [],
   "source": [
    "# Copying the original array to avoid affecting it\n",
    "arr_copy = arr.copy()"
   ]
  },
  {
   "cell_type": "code",
   "execution_count": 606,
   "id": "57fa6df5-0cef-4fed-b0e7-970f77311082",
   "metadata": {},
   "outputs": [],
   "source": [
    "arr_copy[:] = 100"
   ]
  },
  {
   "cell_type": "code",
   "execution_count": 607,
   "id": "1d7d4b48-14c7-4d0e-9c4f-f674b7d67f50",
   "metadata": {},
   "outputs": [
    {
     "data": {
      "text/plain": [
       "array([100, 100, 100, 100, 100, 100, 100, 100, 100, 100, 100])"
      ]
     },
     "execution_count": 607,
     "metadata": {},
     "output_type": "execute_result"
    }
   ],
   "source": [
    "arr_copy"
   ]
  },
  {
   "cell_type": "code",
   "execution_count": 608,
   "id": "e54e50dc-5380-4390-9bd0-c325e4fb6506",
   "metadata": {},
   "outputs": [
    {
     "data": {
      "text/plain": [
       "array([99, 99, 99, 99, 99,  5,  6,  7,  8,  9, 10])"
      ]
     },
     "execution_count": 608,
     "metadata": {},
     "output_type": "execute_result"
    }
   ],
   "source": [
    "# the original array has not been changed because of specifying .copr()\n",
    "arr"
   ]
  },
  {
   "cell_type": "markdown",
   "id": "d3c8a1c1-3294-4f0c-8021-7f222aad5f22",
   "metadata": {},
   "source": [
    "##### Indixing on 2d lists or matrix"
   ]
  },
  {
   "cell_type": "code",
   "execution_count": 610,
   "id": "9aa20f69-e53e-4220-9622-c7d63bf7c578",
   "metadata": {},
   "outputs": [
    {
     "data": {
      "text/plain": [
       "array([[ 1,  2,  3],\n",
       "       [ 4,  5,  6],\n",
       "       [67,  8,  9]])"
      ]
     },
     "execution_count": 610,
     "metadata": {},
     "output_type": "execute_result"
    }
   ],
   "source": [
    "# 2D Array (Matrix) Example\n",
    "arr_2d = np.array([[1,2,3],[4,5,6],[67,8,9]])\n",
    "arr_2d"
   ]
  },
  {
   "cell_type": "code",
   "execution_count": 611,
   "id": "b461133a-df10-4716-9991-b1d0e3a7549f",
   "metadata": {},
   "outputs": [
    {
     "data": {
      "text/plain": [
       "(3, 3)"
      ]
     },
     "execution_count": 611,
     "metadata": {},
     "output_type": "execute_result"
    }
   ],
   "source": [
    "#number of rows (first), then number of columns (second)\n",
    "arr_2d.shape"
   ]
  },
  {
   "cell_type": "code",
   "execution_count": 612,
   "id": "097e082f-c850-4599-a8a1-cb27a33e99af",
   "metadata": {},
   "outputs": [
    {
     "data": {
      "text/plain": [
       "array([1, 2, 3])"
      ]
     },
     "execution_count": 612,
     "metadata": {},
     "output_type": "execute_result"
    }
   ],
   "source": [
    "# Accessing elements in a 2D array\n",
    "arr_2d[0]"
   ]
  },
  {
   "cell_type": "code",
   "execution_count": 613,
   "id": "43a77914-93d8-4692-9457-b8f943083a0d",
   "metadata": {},
   "outputs": [
    {
     "data": {
      "text/plain": [
       "array([67,  8,  9])"
      ]
     },
     "execution_count": 613,
     "metadata": {},
     "output_type": "execute_result"
    }
   ],
   "source": [
    "arr_2d[2]"
   ]
  },
  {
   "cell_type": "code",
   "execution_count": 614,
   "id": "e390cea8-511b-4ead-940e-431bc68a5229",
   "metadata": {},
   "outputs": [
    {
     "data": {
      "text/plain": [
       "8"
      ]
     },
     "execution_count": 614,
     "metadata": {},
     "output_type": "execute_result"
    }
   ],
   "source": [
    "arr_2d[2][1]"
   ]
  },
  {
   "cell_type": "code",
   "execution_count": 615,
   "id": "c3309826-1cd6-4fdc-a67c-41d142843116",
   "metadata": {},
   "outputs": [
    {
     "data": {
      "text/plain": [
       "8"
      ]
     },
     "execution_count": 615,
     "metadata": {},
     "output_type": "execute_result"
    }
   ],
   "source": [
    "arr_2d[2,1]\n"
   ]
  },
  {
   "cell_type": "code",
   "execution_count": 616,
   "id": "19e26a29-aba4-4031-ba78-6e154e947550",
   "metadata": {},
   "outputs": [
    {
     "data": {
      "text/plain": [
       "array([[2, 3],\n",
       "       [5, 6]])"
      ]
     },
     "execution_count": 616,
     "metadata": {},
     "output_type": "execute_result"
    }
   ],
   "source": [
    "arr_2d [:2,1:]"
   ]
  },
  {
   "cell_type": "markdown",
   "id": "eb7147a8-989a-46f2-af45-31baa8832140",
   "metadata": {},
   "source": [
    "### 3.conditional selection"
   ]
  },
  {
   "cell_type": "code",
   "execution_count": 618,
   "id": "fa427542-b90c-4d3d-9cdb-837af8baec71",
   "metadata": {},
   "outputs": [],
   "source": [
    "# Conditional selection\n",
    "arr = np.arange (1,11)"
   ]
  },
  {
   "cell_type": "code",
   "execution_count": 619,
   "id": "00984c02-ff8b-4415-9799-3bee5f4ee746",
   "metadata": {},
   "outputs": [
    {
     "data": {
      "text/plain": [
       "array([False, False, False, False,  True,  True,  True,  True,  True,\n",
       "        True])"
      ]
     },
     "execution_count": 619,
     "metadata": {},
     "output_type": "execute_result"
    }
   ],
   "source": [
    "arr > 4"
   ]
  },
  {
   "cell_type": "code",
   "execution_count": 620,
   "id": "d79ae941-fc3f-4f8e-ae67-d992dd7ef73d",
   "metadata": {},
   "outputs": [],
   "source": [
    "boolean_arr = arr > 4"
   ]
  },
  {
   "cell_type": "code",
   "execution_count": 621,
   "id": "6838b99e-2e94-4f6b-8911-d59704e295d0",
   "metadata": {},
   "outputs": [
    {
     "data": {
      "text/plain": [
       "array([ 5,  6,  7,  8,  9, 10])"
      ]
     },
     "execution_count": 621,
     "metadata": {},
     "output_type": "execute_result"
    }
   ],
   "source": [
    "arr[boolean_arr]"
   ]
  },
  {
   "cell_type": "code",
   "execution_count": 622,
   "id": "5aad9750-7b34-4bff-96d9-21357e3e0f01",
   "metadata": {},
   "outputs": [
    {
     "data": {
      "text/plain": [
       "array([ 5,  6,  7,  8,  9, 10])"
      ]
     },
     "execution_count": 622,
     "metadata": {},
     "output_type": "execute_result"
    }
   ],
   "source": [
    "arr[arr>4]"
   ]
  },
  {
   "cell_type": "markdown",
   "id": "8fead07f-835f-4074-b1e0-d910e89e862d",
   "metadata": {},
   "source": [
    "### Udemy Task:"
   ]
  },
  {
   "cell_type": "markdown",
   "id": "48d9b346-3727-496e-a0c4-b8d409c713fe",
   "metadata": {},
   "source": [
    "##### Use numpy to check how many rolls were greater than 2. For example if dice_rolls=[1,2,3] then the answer is 1.\n"
   ]
  },
  {
   "cell_type": "code",
   "execution_count": 625,
   "id": "2adceb71-226c-4674-b971-c7ccd1a8fc0b",
   "metadata": {},
   "outputs": [
    {
     "data": {
      "text/plain": [
       "19"
      ]
     },
     "execution_count": 625,
     "metadata": {},
     "output_type": "execute_result"
    }
   ],
   "source": [
    "dice_rolls = np.array([3, 1, 5, 2, 5, 1, 1, 5, 1, 4, 2, 1, 4, 5, 3, 4, 5, 2, 4, 2, 6, 6, 3, 6, 2, 3, 5, 6, 5])\n",
    "\n",
    "total_rolls_over_two =np.sum(dice_rolls > 2)\n",
    "total_rolls_over_two\n"
   ]
  },
  {
   "cell_type": "code",
   "execution_count": null,
   "id": "90316d63-5511-4e22-88e4-da1b710b7c12",
   "metadata": {},
   "outputs": [],
   "source": []
  }
 ],
 "metadata": {
  "kernelspec": {
   "display_name": "Python 3 (ipykernel)",
   "language": "python",
   "name": "python3"
  },
  "language_info": {
   "codemirror_mode": {
    "name": "ipython",
    "version": 3
   },
   "file_extension": ".py",
   "mimetype": "text/x-python",
   "name": "python",
   "nbconvert_exporter": "python",
   "pygments_lexer": "ipython3",
   "version": "3.12.4"
  }
 },
 "nbformat": 4,
 "nbformat_minor": 5
}
