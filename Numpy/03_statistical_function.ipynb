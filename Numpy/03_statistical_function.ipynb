{
 "cells": [
  {
   "cell_type": "markdown",
   "id": "8d27e7e8-b5d5-44b8-a66b-4bff971671e7",
   "metadata": {},
   "source": [
    "### List of function in Numpy"
   ]
  },
  {
   "cell_type": "markdown",
   "id": "f94508f3-11f7-4ca6-9975-0e654b213d4d",
   "metadata": {},
   "source": [
    "##### Statistical functions like \n",
    ".max(), .min(), .argmax(), .argmin()"
   ]
  },
  {
   "cell_type": "code",
   "execution_count": 507,
   "id": "7bbfcc3f-d2c4-44be-9ff7-a8c4c631eb0f",
   "metadata": {},
   "outputs": [],
   "source": [
    "import numpy as np"
   ]
  },
  {
   "cell_type": "markdown",
   "id": "2135b004-9209-4528-859d-a5ab5bde24ed",
   "metadata": {},
   "source": [
    "### Numpy: .max()"
   ]
  },
  {
   "cell_type": "code",
   "execution_count": 562,
   "id": "fc2b9295-f12d-45da-bcd0-c6780833ddb3",
   "metadata": {},
   "outputs": [
    {
     "data": {
      "text/plain": [
       "98"
      ]
     },
     "execution_count": 562,
     "metadata": {},
     "output_type": "execute_result"
    }
   ],
   "source": [
    "# Find the maximum value in randarr\n",
    "randarr.max()"
   ]
  },
  {
   "cell_type": "markdown",
   "id": "6c8b83d9-c0f1-4c4b-8c3c-394bba7fb67b",
   "metadata": {},
   "source": [
    "### Numpy: .min()"
   ]
  },
  {
   "cell_type": "code",
   "execution_count": 564,
   "id": "8772c3db-4050-4597-96d8-2073226d02d2",
   "metadata": {},
   "outputs": [
    {
     "data": {
      "text/plain": [
       "3"
      ]
     },
     "execution_count": 564,
     "metadata": {},
     "output_type": "execute_result"
    }
   ],
   "source": [
    "# Find the minimum value in randarr\n",
    "randarr.min()"
   ]
  },
  {
   "cell_type": "markdown",
   "id": "461fa90f-59a6-48f3-8db3-e0adc2bcd697",
   "metadata": {},
   "source": [
    "### Numpy: .argmax()"
   ]
  },
  {
   "cell_type": "code",
   "execution_count": 566,
   "id": "d0f4dffa-d737-4bd0-b888-0ccf85459497",
   "metadata": {},
   "outputs": [
    {
     "data": {
      "text/plain": [
       "6"
      ]
     },
     "execution_count": 566,
     "metadata": {},
     "output_type": "execute_result"
    }
   ],
   "source": [
    "# Find the index of the maximum value in randarr\n",
    "randarr.argmax()"
   ]
  },
  {
   "cell_type": "markdown",
   "id": "a46a2177-c1e7-4408-93d1-7da3b950f698",
   "metadata": {},
   "source": [
    "### Numpy: .argmin()"
   ]
  },
  {
   "cell_type": "code",
   "execution_count": 568,
   "id": "e04d412b-a481-49ef-947e-e24d5a3d81ff",
   "metadata": {},
   "outputs": [
    {
     "data": {
      "text/plain": [
       "0"
      ]
     },
     "execution_count": 568,
     "metadata": {},
     "output_type": "execute_result"
    }
   ],
   "source": [
    "# Find the index of the minimum value in randarr\n",
    "randarr.argmin()"
   ]
  },
  {
   "cell_type": "markdown",
   "id": "a4d371a8-2ad9-466a-b68f-03166e2b3506",
   "metadata": {},
   "source": [
    "### Numpy: .dtype"
   ]
  },
  {
   "cell_type": "code",
   "execution_count": 570,
   "id": "315e6c42-c7dd-41cf-9404-e8de08103846",
   "metadata": {},
   "outputs": [
    {
     "data": {
      "text/plain": [
       "dtype('int32')"
      ]
     },
     "execution_count": 570,
     "metadata": {},
     "output_type": "execute_result"
    }
   ],
   "source": [
    "# Check the data type of elements in randarr\n",
    "randarr.dtype"
   ]
  },
  {
   "cell_type": "code",
   "execution_count": 571,
   "id": "98aca230-dcb3-4d3f-80ee-442fd7a15b16",
   "metadata": {},
   "outputs": [
    {
     "data": {
      "text/plain": [
       "array([ 0,  1,  2,  3,  4,  5,  6,  7,  8,  9, 10, 11, 12, 13, 14, 15, 16,\n",
       "       17, 18, 19, 20, 21, 22, 23, 24])"
      ]
     },
     "execution_count": 571,
     "metadata": {},
     "output_type": "execute_result"
    }
   ],
   "source": [
    "arr"
   ]
  },
  {
   "cell_type": "markdown",
   "id": "b1b79b7d-99ab-4aa3-a499-01fa7beda284",
   "metadata": {},
   "source": [
    "### Numpy: .shape"
   ]
  },
  {
   "cell_type": "code",
   "execution_count": 573,
   "id": "119ea75a-0e26-4418-b406-78bb67cb07fe",
   "metadata": {},
   "outputs": [
    {
     "data": {
      "text/plain": [
       "(25,)"
      ]
     },
     "execution_count": 573,
     "metadata": {},
     "output_type": "execute_result"
    }
   ],
   "source": [
    "# Check the shape of arr\n",
    "arr.shape"
   ]
  },
  {
   "cell_type": "markdown",
   "id": "7de40a10-7656-4892-ba95-604df4e4c5a4",
   "metadata": {},
   "source": [
    "### Numpy: .reshape(-,-)"
   ]
  },
  {
   "cell_type": "code",
   "execution_count": 575,
   "id": "33fcdd74-f521-48c2-800f-b620eaa33a4f",
   "metadata": {},
   "outputs": [],
   "source": [
    "# Reshape arr to 5x5 matrix and display\n",
    "arr = arr.reshape(5,5)"
   ]
  },
  {
   "cell_type": "code",
   "execution_count": 576,
   "id": "a7ffd7cd-4e56-4742-8b11-b1494463a2c2",
   "metadata": {},
   "outputs": [
    {
     "data": {
      "text/plain": [
       "array([[ 0,  1,  2,  3,  4],\n",
       "       [ 5,  6,  7,  8,  9],\n",
       "       [10, 11, 12, 13, 14],\n",
       "       [15, 16, 17, 18, 19],\n",
       "       [20, 21, 22, 23, 24]])"
      ]
     },
     "execution_count": 576,
     "metadata": {},
     "output_type": "execute_result"
    }
   ],
   "source": [
    "arr"
   ]
  },
  {
   "cell_type": "code",
   "execution_count": 577,
   "id": "618b10de-0538-4673-809c-2ae16e11938f",
   "metadata": {},
   "outputs": [
    {
     "data": {
      "text/plain": [
       "(5, 5)"
      ]
     },
     "execution_count": 577,
     "metadata": {},
     "output_type": "execute_result"
    }
   ],
   "source": [
    "arr.shape"
   ]
  },
  {
   "cell_type": "code",
   "execution_count": 578,
   "id": "f8a73587-cecd-4668-bc34-94e25dd9e1e2",
   "metadata": {},
   "outputs": [
    {
     "data": {
      "text/plain": [
       "array([[ 0],\n",
       "       [ 1],\n",
       "       [ 2],\n",
       "       [ 3],\n",
       "       [ 4],\n",
       "       [ 5],\n",
       "       [ 6],\n",
       "       [ 7],\n",
       "       [ 8],\n",
       "       [ 9],\n",
       "       [10],\n",
       "       [11],\n",
       "       [12],\n",
       "       [13],\n",
       "       [14],\n",
       "       [15],\n",
       "       [16],\n",
       "       [17],\n",
       "       [18],\n",
       "       [19],\n",
       "       [20],\n",
       "       [21],\n",
       "       [22],\n",
       "       [23],\n",
       "       [24]])"
      ]
     },
     "execution_count": 578,
     "metadata": {},
     "output_type": "execute_result"
    }
   ],
   "source": [
    "# Reshape arr to a 25x1 matrix\n",
    "arr.reshape(25,1)"
   ]
  },
  {
   "cell_type": "code",
   "execution_count": 579,
   "id": "f0d1671a-c57f-4f17-8df1-2fe631688c3f",
   "metadata": {},
   "outputs": [
    {
     "data": {
      "text/plain": [
       "array([[ 0,  1,  2,  3,  4,  5,  6,  7,  8,  9, 10, 11, 12, 13, 14, 15,\n",
       "        16, 17, 18, 19, 20, 21, 22, 23, 24]])"
      ]
     },
     "execution_count": 579,
     "metadata": {},
     "output_type": "execute_result"
    }
   ],
   "source": [
    "# Reshape arr to a 1x25 matrix\n",
    "arr.reshape(1,25)"
   ]
  }
 ],
 "metadata": {
  "kernelspec": {
   "display_name": "Python 3 (ipykernel)",
   "language": "python",
   "name": "python3"
  },
  "language_info": {
   "codemirror_mode": {
    "name": "ipython",
    "version": 3
   },
   "file_extension": ".py",
   "mimetype": "text/x-python",
   "name": "python",
   "nbconvert_exporter": "python",
   "pygments_lexer": "ipython3",
   "version": "3.12.4"
  }
 },
 "nbformat": 4,
 "nbformat_minor": 5
}
