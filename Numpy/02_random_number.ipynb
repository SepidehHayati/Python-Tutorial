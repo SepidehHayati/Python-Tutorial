{
 "cells": [
  {
   "cell_type": "markdown",
   "id": "8d27e7e8-b5d5-44b8-a66b-4bff971671e7",
   "metadata": {},
   "source": [
    "### List of function in Numpy"
   ]
  },
  {
   "cell_type": "markdown",
   "id": "7a93957a-b3a8-4c20-8d0c-dd731c64e188",
   "metadata": {},
   "source": [
    "##### Random number generation: \n",
    "np.random.rand(), np.random.randn(), np.random.randint()).\n"
   ]
  },
  {
   "cell_type": "code",
   "execution_count": 5,
   "id": "7bbfcc3f-d2c4-44be-9ff7-a8c4c631eb0f",
   "metadata": {},
   "outputs": [],
   "source": [
    "import numpy as np"
   ]
  },
  {
   "cell_type": "markdown",
   "id": "e3ca1321-4053-408f-a8a3-65f64d5b067a",
   "metadata": {},
   "source": [
    "### Numpy: np.random.rand()"
   ]
  },
  {
   "cell_type": "code",
   "execution_count": 7,
   "id": "0def8828-3023-4db0-9f8c-18f26893fe77",
   "metadata": {},
   "outputs": [
    {
     "data": {
      "text/plain": [
       "array([0.00678493, 0.28955576, 0.72614543, 0.94933013, 0.26939505,\n",
       "       0.08532201, 0.06459564, 0.83136645, 0.41453569, 0.40669998])"
      ]
     },
     "execution_count": 7,
     "metadata": {},
     "output_type": "execute_result"
    }
   ],
   "source": [
    "# Generate 10 random numbers between 0 and 1\n",
    "np.random.rand(10)"
   ]
  },
  {
   "cell_type": "code",
   "execution_count": 8,
   "id": "c48c633e-aefc-460a-aeeb-293d13a1c561",
   "metadata": {},
   "outputs": [
    {
     "data": {
      "text/plain": [
       "array([0.69155469])"
      ]
     },
     "execution_count": 8,
     "metadata": {},
     "output_type": "execute_result"
    }
   ],
   "source": [
    "# Generate a single random number between 0 and 1\n",
    "np.random.rand(1)"
   ]
  },
  {
   "cell_type": "code",
   "execution_count": 9,
   "id": "ddc66eda-6480-436d-8314-a8d5620d730f",
   "metadata": {},
   "outputs": [
    {
     "data": {
      "text/plain": [
       "array([[8.75854429e-01, 9.43945567e-02, 2.82226174e-01, 1.39718466e-01],\n",
       "       [4.53985275e-01, 8.02487565e-01, 4.39291563e-01, 8.06899841e-05]])"
      ]
     },
     "execution_count": 9,
     "metadata": {},
     "output_type": "execute_result"
    }
   ],
   "source": [
    "# Generate a 2x4 matrix of random numbers between 0 and 1\n",
    "np.random.rand(2,4)"
   ]
  },
  {
   "cell_type": "markdown",
   "id": "9ca7f73d-5483-440d-be1c-731775161370",
   "metadata": {},
   "source": [
    "### Numpy: np.random.randn()"
   ]
  },
  {
   "cell_type": "code",
   "execution_count": 11,
   "id": "1d9a14e0-27ba-4a90-b07a-c732028751d4",
   "metadata": {},
   "outputs": [
    {
     "data": {
      "text/plain": [
       "array([-1.92423769, -0.06328219, -0.2212123 , -0.01708245,  0.80930837,\n",
       "       -0.41854208, -0.73576529,  0.6556535 , -0.57061574, -1.47840272])"
      ]
     },
     "execution_count": 11,
     "metadata": {},
     "output_type": "execute_result"
    }
   ],
   "source": [
    "# Generate 10 random numbers from a standard normal distribution (mean=0, std=1)\n",
    "np.random.randn(10) #Standard Normal Distribution"
   ]
  },
  {
   "cell_type": "code",
   "execution_count": 12,
   "id": "9a1aacbe-7866-424f-b7be-627afcade99a",
   "metadata": {},
   "outputs": [
    {
     "data": {
      "text/plain": [
       "array([[ 0.08790043, -0.64356071,  2.37741323],\n",
       "       [-0.44136515,  2.25070807,  0.69590795]])"
      ]
     },
     "execution_count": 12,
     "metadata": {},
     "output_type": "execute_result"
    }
   ],
   "source": [
    "# Generate a 2x3 matrix of random numbers from a standard normal distribution\n",
    "np.random.randn(2,3) #Standard Normal Distribution"
   ]
  },
  {
   "cell_type": "markdown",
   "id": "a569f146-dd73-4a2c-baba-323be75bc78e",
   "metadata": {},
   "source": [
    "### Numpy: np.random.randint()"
   ]
  },
  {
   "cell_type": "code",
   "execution_count": 14,
   "id": "d6a3d552-70e2-411b-8ce2-f154abe6a6e9",
   "metadata": {},
   "outputs": [
    {
     "data": {
      "text/plain": [
       "array([[ 33,  25,  84,  10,  97,  85,  46,  43,  73,  18],\n",
       "       [ 45,  30,   7,  50,  81,  23,  87,  19,  31,  38],\n",
       "       [ 33,  63,  91,   8,  94,  13,  48,  34,   1,  91],\n",
       "       [ 88,  36,  85,  63,  59,  33,  67,   3,  68,  54],\n",
       "       [ 22,  22,  80,  43,  94,  51,  26,  42,  77,  71],\n",
       "       [ 42,  69,  13,  28,  38,  97,  80,  82,  50,  45],\n",
       "       [ 97,  32,  41,  10,  92,  29,  53,  43,  90,  35],\n",
       "       [  9,  33,  88,  10,  28,  66,  83,  46,  18,  58],\n",
       "       [ 90,  23,  87,  80,  52,  76,  60,  22,  83,  23],\n",
       "       [ 15,  67,  37,  34,  85, 100,  29,  54,  28,  94]])"
      ]
     },
     "execution_count": 14,
     "metadata": {},
     "output_type": "execute_result"
    }
   ],
   "source": [
    "# Generate a 10x10 matrix of random integers between 0 and 100\n",
    "np.random.randint(0,101,(10,10))"
   ]
  },
  {
   "cell_type": "markdown",
   "id": "e6a7add3-a451-4ae5-a0c1-7a27041e37ec",
   "metadata": {},
   "source": [
    "### Numpy: np.random.seed()"
   ]
  },
  {
   "cell_type": "code",
   "execution_count": 16,
   "id": "82d523b4-2335-493e-8181-f31185bc1fb9",
   "metadata": {},
   "outputs": [
    {
     "data": {
      "text/plain": [
       "array([0.14792062, 0.22829836, 0.80749336, 0.29847458])"
      ]
     },
     "execution_count": 16,
     "metadata": {},
     "output_type": "execute_result"
    }
   ],
   "source": [
    "# Set the seed for reproducibility and generate 4 random numbers\n",
    "np.random.seed(104)\n",
    "np.random.rand(4)"
   ]
  },
  {
   "cell_type": "code",
   "execution_count": 17,
   "id": "478506db-fb8e-4314-8d16-4921eb38783a",
   "metadata": {},
   "outputs": [
    {
     "data": {
      "text/plain": [
       "array([0.14792062, 0.22829836, 0.80749336, 0.29847458])"
      ]
     },
     "execution_count": 17,
     "metadata": {},
     "output_type": "execute_result"
    }
   ],
   "source": [
    "# Generate 4 random numbers without setting the seed (different result each time)\n",
    "np.random.seed(104)\n",
    "np.random.rand(4)"
   ]
  },
  {
   "cell_type": "code",
   "execution_count": 18,
   "id": "a28e5881-273f-4ed3-8fb3-3809d5f7bef5",
   "metadata": {},
   "outputs": [
    {
     "data": {
      "text/plain": [
       "array([0.18570674, 0.77213731, 0.40543952, 0.99590454])"
      ]
     },
     "execution_count": 18,
     "metadata": {},
     "output_type": "execute_result"
    }
   ],
   "source": [
    "#without seed we have diferent result in any time \n",
    "np.random.rand(4)"
   ]
  },
  {
   "cell_type": "code",
   "execution_count": 19,
   "id": "3823b411-2c7d-477f-b525-4ed662711991",
   "metadata": {},
   "outputs": [],
   "source": [
    "# Generate a 1D array from 0 to 24\n",
    "arr = np.arange(0,25)"
   ]
  },
  {
   "cell_type": "code",
   "execution_count": 20,
   "id": "351e85bd-8b56-49ea-b106-2e416fe0e481",
   "metadata": {},
   "outputs": [
    {
     "data": {
      "text/plain": [
       "array([ 0,  1,  2,  3,  4,  5,  6,  7,  8,  9, 10, 11, 12, 13, 14, 15, 16,\n",
       "       17, 18, 19, 20, 21, 22, 23, 24])"
      ]
     },
     "execution_count": 20,
     "metadata": {},
     "output_type": "execute_result"
    }
   ],
   "source": [
    "arr"
   ]
  },
  {
   "cell_type": "markdown",
   "id": "3b6c051f-03ad-40a7-9b83-0438f79e5b2f",
   "metadata": {},
   "source": [
    "### Numpy: .reshape (-,-)"
   ]
  },
  {
   "cell_type": "code",
   "execution_count": 22,
   "id": "be9a901c-4189-4882-a321-d5a9e4537086",
   "metadata": {},
   "outputs": [
    {
     "data": {
      "text/plain": [
       "array([[ 0,  1,  2,  3,  4],\n",
       "       [ 5,  6,  7,  8,  9],\n",
       "       [10, 11, 12, 13, 14],\n",
       "       [15, 16, 17, 18, 19],\n",
       "       [20, 21, 22, 23, 24]])"
      ]
     },
     "execution_count": 22,
     "metadata": {},
     "output_type": "execute_result"
    }
   ],
   "source": [
    "# Reshape the array into a 5x5 matrix\n",
    "arr.reshape (5,5)"
   ]
  },
  {
   "cell_type": "code",
   "execution_count": 23,
   "id": "0a11e93c-b3a2-4e5d-9d7f-e1378f744bde",
   "metadata": {},
   "outputs": [],
   "source": [
    "# If we try reshaping with incompatible dimensions (5, 4), it will throw an error\n",
    "# arr.reshape(5, 4)  # This will give an error because the array has 25 elements\n",
    "\n",
    "#arr.reshape (5,4)"
   ]
  },
  {
   "cell_type": "code",
   "execution_count": 24,
   "id": "15e4b5f0-7f3c-42e9-bbe0-97e5f489f46e",
   "metadata": {},
   "outputs": [],
   "source": [
    "randarr = np.random.randint(0,101,10)"
   ]
  },
  {
   "cell_type": "code",
   "execution_count": 25,
   "id": "771b836f-4a60-4835-b04a-8b66879ad0e4",
   "metadata": {},
   "outputs": [
    {
     "data": {
      "text/plain": [
       "array([ 3, 64,  8, 14, 59, 55, 98, 62, 64, 69])"
      ]
     },
     "execution_count": 25,
     "metadata": {},
     "output_type": "execute_result"
    }
   ],
   "source": [
    "# Generate a random 1D array of 10 random integers between 0 and 100\n",
    "randarr"
   ]
  }
 ],
 "metadata": {
  "kernelspec": {
   "display_name": "Python 3 (ipykernel)",
   "language": "python",
   "name": "python3"
  },
  "language_info": {
   "codemirror_mode": {
    "name": "ipython",
    "version": 3
   },
   "file_extension": ".py",
   "mimetype": "text/x-python",
   "name": "python",
   "nbconvert_exporter": "python",
   "pygments_lexer": "ipython3",
   "version": "3.12.4"
  }
 },
 "nbformat": 4,
 "nbformat_minor": 5
}
