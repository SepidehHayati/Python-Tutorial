{
 "cells": [
  {
   "cell_type": "markdown",
   "id": "8d27e7e8-b5d5-44b8-a66b-4bff971671e7",
   "metadata": {},
   "source": [
    "### List of function in Numpy"
   ]
  },
  {
   "cell_type": "markdown",
   "id": "39f05568-8580-4858-94d2-0e21b55535f2",
   "metadata": {},
   "source": [
    "##### key NumPy functionalities such as:\n",
    "  np.array(),  np.arange(),   np.zeros(),  np.ones(),   np.linspace(), np.eye(), \n",
    "\n",
    " "
   ]
  },
  {
   "cell_type": "markdown",
   "id": "7a93957a-b3a8-4c20-8d0c-dd731c64e188",
   "metadata": {},
   "source": [
    "##### Random number generation: \n",
    "np.random.rand(), np.random.randn(), np.random.randint()).\n"
   ]
  },
  {
   "cell_type": "markdown",
   "id": "f94508f3-11f7-4ca6-9975-0e654b213d4d",
   "metadata": {},
   "source": [
    "##### Statistical functions like \n",
    ".max(), .min(), .argmax(), .argmin()"
   ]
  },
  {
   "cell_type": "code",
   "execution_count": 507,
   "id": "7bbfcc3f-d2c4-44be-9ff7-a8c4c631eb0f",
   "metadata": {},
   "outputs": [],
   "source": [
    "import numpy as np"
   ]
  },
  {
   "cell_type": "markdown",
   "id": "21a9d7bc-4b75-40bb-a023-aa289d5362fe",
   "metadata": {},
   "source": [
    "### Numpy List"
   ]
  },
  {
   "cell_type": "code",
   "execution_count": 509,
   "id": "1706277c-7732-4988-8f67-f806e0a532a5",
   "metadata": {},
   "outputs": [
    {
     "data": {
      "text/plain": [
       "list"
      ]
     },
     "execution_count": 509,
     "metadata": {},
     "output_type": "execute_result"
    }
   ],
   "source": [
    "# Defining a Python list\n",
    "my_list = [1, 2, 3] \n",
    "type(my_list)"
   ]
  },
  {
   "cell_type": "code",
   "execution_count": 510,
   "id": "92ac88fc-c4a7-41ae-b1ff-1aeab1d2e653",
   "metadata": {},
   "outputs": [
    {
     "data": {
      "text/plain": [
       "[1, 2, 3]"
      ]
     },
     "execution_count": 510,
     "metadata": {},
     "output_type": "execute_result"
    }
   ],
   "source": [
    "# Display the content of the list\n",
    "my_list"
   ]
  },
  {
   "cell_type": "markdown",
   "id": "3cc67a63-bf54-4ad5-a375-b93e41e11aef",
   "metadata": {},
   "source": []
  },
  {
   "cell_type": "code",
   "execution_count": 512,
   "id": "6c38306a-bd61-4f60-bc29-e63f5a3ee37a",
   "metadata": {},
   "outputs": [
    {
     "data": {
      "text/plain": [
       "list"
      ]
     },
     "execution_count": 512,
     "metadata": {},
     "output_type": "execute_result"
    }
   ],
   "source": [
    "# Check the type of my_list, which is a Python list\n",
    "type (my_list)"
   ]
  },
  {
   "cell_type": "code",
   "execution_count": 513,
   "id": "d2476277-79c8-43ee-a1ef-93061f2266b0",
   "metadata": {},
   "outputs": [
    {
     "data": {
      "text/plain": [
       "array([1, 2, 3])"
      ]
     },
     "execution_count": 513,
     "metadata": {},
     "output_type": "execute_result"
    }
   ],
   "source": [
    "# Convert the list to a numpy array\n",
    "\n",
    "np.array(my_list)"
   ]
  },
  {
   "cell_type": "code",
   "execution_count": 514,
   "id": "918397b8-3730-4c9e-9c78-7ce195f98002",
   "metadata": {},
   "outputs": [
    {
     "data": {
      "text/plain": [
       "[1, 2, 3]"
      ]
     },
     "execution_count": 514,
     "metadata": {},
     "output_type": "execute_result"
    }
   ],
   "source": [
    "# Display the original list again to show it remains unchanged\n",
    "\n",
    "my_list"
   ]
  },
  {
   "cell_type": "code",
   "execution_count": 515,
   "id": "69b92d29-cb8b-442e-8a2b-8615a5f5dda5",
   "metadata": {},
   "outputs": [],
   "source": [
    "# Convert the list to a numpy array and store it in my_array\n",
    "\n",
    "my_array = np.array(my_list)"
   ]
  },
  {
   "cell_type": "code",
   "execution_count": 516,
   "id": "6dd22d09-4669-4e8e-8e72-3fb5a6d77346",
   "metadata": {},
   "outputs": [
    {
     "data": {
      "text/plain": [
       "array([1, 2, 3])"
      ]
     },
     "execution_count": 516,
     "metadata": {},
     "output_type": "execute_result"
    }
   ],
   "source": [
    "my_array"
   ]
  },
  {
   "cell_type": "code",
   "execution_count": 517,
   "id": "0616aed0-1693-44f7-8260-db6a24eb6fe8",
   "metadata": {},
   "outputs": [],
   "source": [
    "# check the type of the list"
   ]
  },
  {
   "cell_type": "code",
   "execution_count": 518,
   "id": "3e374a50-dc63-4fb7-b7af-a5eb37f15790",
   "metadata": {},
   "outputs": [
    {
     "data": {
      "text/plain": [
       "numpy.ndarray"
      ]
     },
     "execution_count": 518,
     "metadata": {},
     "output_type": "execute_result"
    }
   ],
   "source": [
    "# Check the type of my_array, which is now a numpy ndarray\n",
    "\n",
    "type (my_array)"
   ]
  },
  {
   "cell_type": "markdown",
   "id": "941ee1cf-32f6-4273-8205-71e8194d6fe5",
   "metadata": {},
   "source": [
    "### Numpy 2D List: Matrix"
   ]
  },
  {
   "cell_type": "code",
   "execution_count": 520,
   "id": "25d65e3a-34bf-431f-a84a-8d25a902a283",
   "metadata": {},
   "outputs": [],
   "source": [
    "# Define a 2D list (matrix)\n",
    "\n",
    "my_matrix = [[1,2,3], [4,5,6],[7,8,9]]"
   ]
  },
  {
   "cell_type": "code",
   "execution_count": 521,
   "id": "c4ddd266-eca8-4bf9-a85c-f57876ab75f1",
   "metadata": {},
   "outputs": [
    {
     "data": {
      "text/plain": [
       "[[1, 2, 3], [4, 5, 6], [7, 8, 9]]"
      ]
     },
     "execution_count": 521,
     "metadata": {},
     "output_type": "execute_result"
    }
   ],
   "source": [
    "my_matrix"
   ]
  },
  {
   "cell_type": "code",
   "execution_count": 522,
   "id": "e64771df-4bc9-4269-bdb2-36d210e061c9",
   "metadata": {},
   "outputs": [
    {
     "data": {
      "text/plain": [
       "list"
      ]
     },
     "execution_count": 522,
     "metadata": {},
     "output_type": "execute_result"
    }
   ],
   "source": [
    "type (my_matrix)"
   ]
  },
  {
   "cell_type": "code",
   "execution_count": 523,
   "id": "0a77455f-f322-483d-908c-bb7da6185787",
   "metadata": {},
   "outputs": [],
   "source": [
    "# Convert the 2D list to a numpy array (2D matrix)\n",
    "\n",
    "np_matrix = np.array(my_matrix)"
   ]
  },
  {
   "cell_type": "code",
   "execution_count": 524,
   "id": "21cb5d41-fc37-41cc-b817-77737cc08d27",
   "metadata": {},
   "outputs": [
    {
     "data": {
      "text/plain": [
       "array([[1, 2, 3],\n",
       "       [4, 5, 6],\n",
       "       [7, 8, 9]])"
      ]
     },
     "execution_count": 524,
     "metadata": {},
     "output_type": "execute_result"
    }
   ],
   "source": [
    "np_matrix"
   ]
  },
  {
   "cell_type": "markdown",
   "id": "02c1250b-f7a6-4cf9-8498-69c1e6b4c335",
   "metadata": {},
   "source": [
    "### Numpy: np.arange (-,-)"
   ]
  },
  {
   "cell_type": "code",
   "execution_count": 526,
   "id": "84ffe7e2-128f-4034-89eb-3f6a047b14e5",
   "metadata": {},
   "outputs": [
    {
     "data": {
      "text/plain": [
       "array([ 0,  1,  2,  3,  4,  5,  6,  7,  8,  9, 10, 11])"
      ]
     },
     "execution_count": 526,
     "metadata": {},
     "output_type": "execute_result"
    }
   ],
   "source": [
    "# Use np.arange to generate an array with values from 0 to 11 (exclusive)\n",
    "\n",
    "np.arange(0,12)"
   ]
  },
  {
   "cell_type": "code",
   "execution_count": 527,
   "id": "288803fb-81e5-43d0-ae61-ddb74605a1b1",
   "metadata": {},
   "outputs": [
    {
     "data": {
      "text/plain": [
       "array([  0,  20,  40,  60,  80, 100])"
      ]
     },
     "execution_count": 527,
     "metadata": {},
     "output_type": "execute_result"
    }
   ],
   "source": [
    "# Use np.arange to generate an array with a step size of 20\n",
    "\n",
    "np.arange(0,101,20) #step size"
   ]
  },
  {
   "cell_type": "code",
   "execution_count": 528,
   "id": "7eb441ec-d2c3-4036-a1d7-e8564942bb64",
   "metadata": {},
   "outputs": [
    {
     "data": {
      "text/plain": [
       "numpy.ndarray"
      ]
     },
     "execution_count": 528,
     "metadata": {},
     "output_type": "execute_result"
    }
   ],
   "source": [
    "# Check the type of np_matrix, which is a numpy ndarray\n",
    "type (np_matrix)"
   ]
  },
  {
   "cell_type": "markdown",
   "id": "870b3fd6-becd-4293-a6e1-5f15b79f6405",
   "metadata": {},
   "source": [
    "### Numpy: np.zeros()"
   ]
  },
  {
   "cell_type": "code",
   "execution_count": 530,
   "id": "66452c75-c10b-4e97-b68c-a140e3a119d9",
   "metadata": {},
   "outputs": [
    {
     "data": {
      "text/plain": [
       "array([0., 0., 0., 0., 0.])"
      ]
     },
     "execution_count": 530,
     "metadata": {},
     "output_type": "execute_result"
    }
   ],
   "source": [
    "# Generate an array of 5 zeros\n",
    "np.zeros(5)"
   ]
  },
  {
   "cell_type": "code",
   "execution_count": 531,
   "id": "9df28f44-7d7b-49f8-a9ae-a096f3c90899",
   "metadata": {},
   "outputs": [
    {
     "data": {
      "text/plain": [
       "array([[0., 0., 0., 0., 0.],\n",
       "       [0., 0., 0., 0., 0.]])"
      ]
     },
     "execution_count": 531,
     "metadata": {},
     "output_type": "execute_result"
    }
   ],
   "source": [
    "# Generate a 2x5 matrix of zeros\n",
    "np.zeros((2,5))"
   ]
  },
  {
   "cell_type": "markdown",
   "id": "ffe54f5f-536c-4da3-a483-7c2fafc03aa2",
   "metadata": {},
   "source": [
    "### Numpy: np.ones()"
   ]
  },
  {
   "cell_type": "code",
   "execution_count": 533,
   "id": "1145e536-56e0-42dd-8240-4f2ad6c1c23f",
   "metadata": {},
   "outputs": [
    {
     "data": {
      "text/plain": [
       "array([[1., 1., 1., 1.],\n",
       "       [1., 1., 1., 1.]])"
      ]
     },
     "execution_count": 533,
     "metadata": {},
     "output_type": "execute_result"
    }
   ],
   "source": [
    "# Generate a 2x4 matrix of ones\n",
    "np.ones((2,4))"
   ]
  },
  {
   "cell_type": "code",
   "execution_count": 534,
   "id": "11bfdd40-50c9-45bb-b64f-68e6dad37684",
   "metadata": {},
   "outputs": [
    {
     "data": {
      "text/plain": [
       "array([1., 1., 1., 1., 1.])"
      ]
     },
     "execution_count": 534,
     "metadata": {},
     "output_type": "execute_result"
    }
   ],
   "source": [
    "# Generate an array of 5 ones\n",
    "np.ones(5)"
   ]
  },
  {
   "cell_type": "markdown",
   "id": "11f63977-3299-4b56-b8e8-ca06c4d1293e",
   "metadata": {},
   "source": [
    "### Numpy: np.linspace()"
   ]
  },
  {
   "cell_type": "code",
   "execution_count": 536,
   "id": "096ee1e4-9515-452d-ad26-e3bbc47e4145",
   "metadata": {},
   "outputs": [
    {
     "data": {
      "text/plain": [
       "array([ 0.,  1.,  2.,  3.,  4.,  5.,  6.,  7.,  8.,  9., 10.])"
      ]
     },
     "execution_count": 536,
     "metadata": {},
     "output_type": "execute_result"
    }
   ],
   "source": [
    "# Generate 11 equally spaced values between 0 and 10 (inclusive)\n",
    "np.linspace(0,10,11)"
   ]
  },
  {
   "cell_type": "code",
   "execution_count": 537,
   "id": "5c81781b-8138-4785-b6fe-71daddf0a80b",
   "metadata": {},
   "outputs": [
    {
     "data": {
      "text/plain": [
       "array([ 0.,  2.,  4.,  6.,  8., 10.])"
      ]
     },
     "execution_count": 537,
     "metadata": {},
     "output_type": "execute_result"
    }
   ],
   "source": [
    "# Generate 6 equally spaced values between 0 and 10 (inclusive)\n",
    "np.linspace(0,10,6)"
   ]
  },
  {
   "cell_type": "code",
   "execution_count": 538,
   "id": "4ec3ce83-9b53-4fa3-9274-39d14554a511",
   "metadata": {},
   "outputs": [
    {
     "data": {
      "text/plain": [
       "6"
      ]
     },
     "execution_count": 538,
     "metadata": {},
     "output_type": "execute_result"
    }
   ],
   "source": [
    "# Get the length of the array generated by linspace\n",
    "len (np.linspace(0,10,6))"
   ]
  },
  {
   "cell_type": "markdown",
   "id": "df153199-202b-41d8-b049-f2ab3e25ac7e",
   "metadata": {},
   "source": [
    "### Numpy: np.eye()"
   ]
  },
  {
   "cell_type": "code",
   "execution_count": 540,
   "id": "d6a4e329-a644-46ce-b975-b4f537ba297c",
   "metadata": {},
   "outputs": [
    {
     "data": {
      "text/plain": [
       "array([[1., 0., 0., 0.],\n",
       "       [0., 1., 0., 0.],\n",
       "       [0., 0., 1., 0.],\n",
       "       [0., 0., 0., 1.]])"
      ]
     },
     "execution_count": 540,
     "metadata": {},
     "output_type": "execute_result"
    }
   ],
   "source": [
    "# Generate a 4x4 identity matrix (ones on the diagonal, zeros elsewhere)\n",
    "np.eye(4)"
   ]
  },
  {
   "cell_type": "markdown",
   "id": "e3ca1321-4053-408f-a8a3-65f64d5b067a",
   "metadata": {},
   "source": [
    "### Numpy: np.random.rand()"
   ]
  },
  {
   "cell_type": "code",
   "execution_count": 542,
   "id": "0def8828-3023-4db0-9f8c-18f26893fe77",
   "metadata": {},
   "outputs": [
    {
     "data": {
      "text/plain": [
       "array([0.82026865, 0.44130427, 0.23668364, 0.41805425, 0.93072888,\n",
       "       0.16710275, 0.75959507, 0.12320217, 0.66885387, 0.70139253])"
      ]
     },
     "execution_count": 542,
     "metadata": {},
     "output_type": "execute_result"
    }
   ],
   "source": [
    "# Generate 10 random numbers between 0 and 1\n",
    "np.random.rand(10)"
   ]
  },
  {
   "cell_type": "code",
   "execution_count": 543,
   "id": "c48c633e-aefc-460a-aeeb-293d13a1c561",
   "metadata": {},
   "outputs": [
    {
     "data": {
      "text/plain": [
       "array([0.65790624])"
      ]
     },
     "execution_count": 543,
     "metadata": {},
     "output_type": "execute_result"
    }
   ],
   "source": [
    "# Generate a single random number between 0 and 1\n",
    "np.random.rand(1)"
   ]
  },
  {
   "cell_type": "code",
   "execution_count": 544,
   "id": "ddc66eda-6480-436d-8314-a8d5620d730f",
   "metadata": {},
   "outputs": [
    {
     "data": {
      "text/plain": [
       "array([[0.77098405, 0.93505091, 0.42935846, 0.26513235],\n",
       "       [0.21279722, 0.21411741, 0.52302267, 0.10497849]])"
      ]
     },
     "execution_count": 544,
     "metadata": {},
     "output_type": "execute_result"
    }
   ],
   "source": [
    "# Generate a 2x4 matrix of random numbers between 0 and 1\n",
    "np.random.rand(2,4)"
   ]
  },
  {
   "cell_type": "markdown",
   "id": "9ca7f73d-5483-440d-be1c-731775161370",
   "metadata": {},
   "source": [
    "### Numpy: np.random.randn()"
   ]
  },
  {
   "cell_type": "code",
   "execution_count": 546,
   "id": "1d9a14e0-27ba-4a90-b07a-c732028751d4",
   "metadata": {},
   "outputs": [
    {
     "data": {
      "text/plain": [
       "array([ 1.2320855 ,  1.62145296, -0.15720753,  0.30400945,  1.56620852,\n",
       "        1.16694228, -0.51487376, -0.21902376,  0.77090534,  0.44450598])"
      ]
     },
     "execution_count": 546,
     "metadata": {},
     "output_type": "execute_result"
    }
   ],
   "source": [
    "# Generate 10 random numbers from a standard normal distribution (mean=0, std=1)\n",
    "np.random.randn(10) #Standard Normal Distribution"
   ]
  },
  {
   "cell_type": "code",
   "execution_count": 547,
   "id": "9a1aacbe-7866-424f-b7be-627afcade99a",
   "metadata": {},
   "outputs": [
    {
     "data": {
      "text/plain": [
       "array([[-1.02915618, -0.74194106,  0.96381662],\n",
       "       [-0.71821582, -0.71397015, -0.12390217]])"
      ]
     },
     "execution_count": 547,
     "metadata": {},
     "output_type": "execute_result"
    }
   ],
   "source": [
    "# Generate a 2x3 matrix of random numbers from a standard normal distribution\n",
    "np.random.randn(2,3) #Standard Normal Distribution"
   ]
  },
  {
   "cell_type": "markdown",
   "id": "a569f146-dd73-4a2c-baba-323be75bc78e",
   "metadata": {},
   "source": [
    "### Numpy: np.random.randint()"
   ]
  },
  {
   "cell_type": "code",
   "execution_count": 549,
   "id": "d6a3d552-70e2-411b-8ce2-f154abe6a6e9",
   "metadata": {},
   "outputs": [
    {
     "data": {
      "text/plain": [
       "array([[62, 40, 38, 92, 85, 77, 14, 14, 80, 74],\n",
       "       [27, 57, 93, 91, 32, 52,  8, 79, 68, 82],\n",
       "       [79, 13, 32, 87, 96, 37, 81, 60, 62, 22],\n",
       "       [ 3, 72, 25, 55, 89, 79, 96, 76, 65, 72],\n",
       "       [42, 83, 83,  4, 79, 12, 16, 92, 54, 50],\n",
       "       [71,  8, 60,  2, 48, 89,  4, 37, 36, 77],\n",
       "       [17, 80, 48, 59, 92, 39, 31, 21, 57,  0],\n",
       "       [60, 53, 85, 91, 27, 55, 29, 88, 15, 21],\n",
       "       [14, 86, 87, 30, 48,  2, 46, 57, 78, 40],\n",
       "       [ 3, 50, 89, 83, 94, 96, 23, 25, 11, 95]])"
      ]
     },
     "execution_count": 549,
     "metadata": {},
     "output_type": "execute_result"
    }
   ],
   "source": [
    "# Generate a 10x10 matrix of random integers between 0 and 100\n",
    "np.random.randint(0,101,(10,10))"
   ]
  },
  {
   "cell_type": "markdown",
   "id": "e6a7add3-a451-4ae5-a0c1-7a27041e37ec",
   "metadata": {},
   "source": [
    "### Numpy: np.random.seed()"
   ]
  },
  {
   "cell_type": "code",
   "execution_count": 551,
   "id": "82d523b4-2335-493e-8181-f31185bc1fb9",
   "metadata": {},
   "outputs": [
    {
     "data": {
      "text/plain": [
       "array([0.14792062, 0.22829836, 0.80749336, 0.29847458])"
      ]
     },
     "execution_count": 551,
     "metadata": {},
     "output_type": "execute_result"
    }
   ],
   "source": [
    "# Set the seed for reproducibility and generate 4 random numbers\n",
    "np.random.seed(104)\n",
    "np.random.rand(4)"
   ]
  },
  {
   "cell_type": "code",
   "execution_count": 552,
   "id": "478506db-fb8e-4314-8d16-4921eb38783a",
   "metadata": {},
   "outputs": [
    {
     "data": {
      "text/plain": [
       "array([0.14792062, 0.22829836, 0.80749336, 0.29847458])"
      ]
     },
     "execution_count": 552,
     "metadata": {},
     "output_type": "execute_result"
    }
   ],
   "source": [
    "# Generate 4 random numbers without setting the seed (different result each time)\n",
    "np.random.seed(104)\n",
    "np.random.rand(4)"
   ]
  },
  {
   "cell_type": "code",
   "execution_count": 553,
   "id": "a28e5881-273f-4ed3-8fb3-3809d5f7bef5",
   "metadata": {},
   "outputs": [
    {
     "data": {
      "text/plain": [
       "array([0.18570674, 0.77213731, 0.40543952, 0.99590454])"
      ]
     },
     "execution_count": 553,
     "metadata": {},
     "output_type": "execute_result"
    }
   ],
   "source": [
    "#without seed we have diferent result in any time \n",
    "np.random.rand(4)"
   ]
  },
  {
   "cell_type": "code",
   "execution_count": 554,
   "id": "3823b411-2c7d-477f-b525-4ed662711991",
   "metadata": {},
   "outputs": [],
   "source": [
    "# Generate a 1D array from 0 to 24\n",
    "arr = np.arange(0,25)"
   ]
  },
  {
   "cell_type": "code",
   "execution_count": 555,
   "id": "351e85bd-8b56-49ea-b106-2e416fe0e481",
   "metadata": {},
   "outputs": [
    {
     "data": {
      "text/plain": [
       "array([ 0,  1,  2,  3,  4,  5,  6,  7,  8,  9, 10, 11, 12, 13, 14, 15, 16,\n",
       "       17, 18, 19, 20, 21, 22, 23, 24])"
      ]
     },
     "execution_count": 555,
     "metadata": {},
     "output_type": "execute_result"
    }
   ],
   "source": [
    "arr"
   ]
  },
  {
   "cell_type": "markdown",
   "id": "3b6c051f-03ad-40a7-9b83-0438f79e5b2f",
   "metadata": {},
   "source": [
    "### Numpy: .reshape (-,-)"
   ]
  },
  {
   "cell_type": "code",
   "execution_count": 557,
   "id": "be9a901c-4189-4882-a321-d5a9e4537086",
   "metadata": {},
   "outputs": [
    {
     "data": {
      "text/plain": [
       "array([[ 0,  1,  2,  3,  4],\n",
       "       [ 5,  6,  7,  8,  9],\n",
       "       [10, 11, 12, 13, 14],\n",
       "       [15, 16, 17, 18, 19],\n",
       "       [20, 21, 22, 23, 24]])"
      ]
     },
     "execution_count": 557,
     "metadata": {},
     "output_type": "execute_result"
    }
   ],
   "source": [
    "# Reshape the array into a 5x5 matrix\n",
    "arr.reshape (5,5)"
   ]
  },
  {
   "cell_type": "code",
   "execution_count": 558,
   "id": "0a11e93c-b3a2-4e5d-9d7f-e1378f744bde",
   "metadata": {},
   "outputs": [],
   "source": [
    "# If we try reshaping with incompatible dimensions (5, 4), it will throw an error\n",
    "# arr.reshape(5, 4)  # This will give an error because the array has 25 elements\n",
    "\n",
    "#arr.reshape (5,4)"
   ]
  },
  {
   "cell_type": "code",
   "execution_count": 559,
   "id": "15e4b5f0-7f3c-42e9-bbe0-97e5f489f46e",
   "metadata": {},
   "outputs": [],
   "source": [
    "randarr = np.random.randint(0,101,10)"
   ]
  },
  {
   "cell_type": "code",
   "execution_count": 560,
   "id": "771b836f-4a60-4835-b04a-8b66879ad0e4",
   "metadata": {},
   "outputs": [
    {
     "data": {
      "text/plain": [
       "array([ 3, 64,  8, 14, 59, 55, 98, 62, 64, 69])"
      ]
     },
     "execution_count": 560,
     "metadata": {},
     "output_type": "execute_result"
    }
   ],
   "source": [
    "# Generate a random 1D array of 10 random integers between 0 and 100\n",
    "randarr"
   ]
  },
  {
   "cell_type": "markdown",
   "id": "2135b004-9209-4528-859d-a5ab5bde24ed",
   "metadata": {},
   "source": [
    "### Numpy: .max()"
   ]
  },
  {
   "cell_type": "code",
   "execution_count": 562,
   "id": "fc2b9295-f12d-45da-bcd0-c6780833ddb3",
   "metadata": {},
   "outputs": [
    {
     "data": {
      "text/plain": [
       "98"
      ]
     },
     "execution_count": 562,
     "metadata": {},
     "output_type": "execute_result"
    }
   ],
   "source": [
    "# Find the maximum value in randarr\n",
    "randarr.max()"
   ]
  },
  {
   "cell_type": "markdown",
   "id": "6c8b83d9-c0f1-4c4b-8c3c-394bba7fb67b",
   "metadata": {},
   "source": [
    "### Numpy: .min()"
   ]
  },
  {
   "cell_type": "code",
   "execution_count": 564,
   "id": "8772c3db-4050-4597-96d8-2073226d02d2",
   "metadata": {},
   "outputs": [
    {
     "data": {
      "text/plain": [
       "3"
      ]
     },
     "execution_count": 564,
     "metadata": {},
     "output_type": "execute_result"
    }
   ],
   "source": [
    "# Find the minimum value in randarr\n",
    "randarr.min()"
   ]
  },
  {
   "cell_type": "markdown",
   "id": "461fa90f-59a6-48f3-8db3-e0adc2bcd697",
   "metadata": {},
   "source": [
    "### Numpy: .argmax()"
   ]
  },
  {
   "cell_type": "code",
   "execution_count": 566,
   "id": "d0f4dffa-d737-4bd0-b888-0ccf85459497",
   "metadata": {},
   "outputs": [
    {
     "data": {
      "text/plain": [
       "6"
      ]
     },
     "execution_count": 566,
     "metadata": {},
     "output_type": "execute_result"
    }
   ],
   "source": [
    "# Find the index of the maximum value in randarr\n",
    "randarr.argmax()"
   ]
  },
  {
   "cell_type": "markdown",
   "id": "a46a2177-c1e7-4408-93d1-7da3b950f698",
   "metadata": {},
   "source": [
    "### Numpy: .argmin()"
   ]
  },
  {
   "cell_type": "code",
   "execution_count": 568,
   "id": "e04d412b-a481-49ef-947e-e24d5a3d81ff",
   "metadata": {},
   "outputs": [
    {
     "data": {
      "text/plain": [
       "0"
      ]
     },
     "execution_count": 568,
     "metadata": {},
     "output_type": "execute_result"
    }
   ],
   "source": [
    "# Find the index of the minimum value in randarr\n",
    "randarr.argmin()"
   ]
  },
  {
   "cell_type": "markdown",
   "id": "a4d371a8-2ad9-466a-b68f-03166e2b3506",
   "metadata": {},
   "source": [
    "### Numpy: .dtype"
   ]
  },
  {
   "cell_type": "code",
   "execution_count": 570,
   "id": "315e6c42-c7dd-41cf-9404-e8de08103846",
   "metadata": {},
   "outputs": [
    {
     "data": {
      "text/plain": [
       "dtype('int32')"
      ]
     },
     "execution_count": 570,
     "metadata": {},
     "output_type": "execute_result"
    }
   ],
   "source": [
    "# Check the data type of elements in randarr\n",
    "randarr.dtype"
   ]
  },
  {
   "cell_type": "code",
   "execution_count": 571,
   "id": "98aca230-dcb3-4d3f-80ee-442fd7a15b16",
   "metadata": {},
   "outputs": [
    {
     "data": {
      "text/plain": [
       "array([ 0,  1,  2,  3,  4,  5,  6,  7,  8,  9, 10, 11, 12, 13, 14, 15, 16,\n",
       "       17, 18, 19, 20, 21, 22, 23, 24])"
      ]
     },
     "execution_count": 571,
     "metadata": {},
     "output_type": "execute_result"
    }
   ],
   "source": [
    "arr"
   ]
  },
  {
   "cell_type": "markdown",
   "id": "b1b79b7d-99ab-4aa3-a499-01fa7beda284",
   "metadata": {},
   "source": [
    "### Numpy: .shape"
   ]
  },
  {
   "cell_type": "code",
   "execution_count": 573,
   "id": "119ea75a-0e26-4418-b406-78bb67cb07fe",
   "metadata": {},
   "outputs": [
    {
     "data": {
      "text/plain": [
       "(25,)"
      ]
     },
     "execution_count": 573,
     "metadata": {},
     "output_type": "execute_result"
    }
   ],
   "source": [
    "# Check the shape of arr\n",
    "arr.shape"
   ]
  },
  {
   "cell_type": "markdown",
   "id": "7de40a10-7656-4892-ba95-604df4e4c5a4",
   "metadata": {},
   "source": [
    "### Numpy: .reshape(-,-)"
   ]
  },
  {
   "cell_type": "code",
   "execution_count": 575,
   "id": "33fcdd74-f521-48c2-800f-b620eaa33a4f",
   "metadata": {},
   "outputs": [],
   "source": [
    "# Reshape arr to 5x5 matrix and display\n",
    "arr = arr.reshape(5,5)"
   ]
  },
  {
   "cell_type": "code",
   "execution_count": 576,
   "id": "a7ffd7cd-4e56-4742-8b11-b1494463a2c2",
   "metadata": {},
   "outputs": [
    {
     "data": {
      "text/plain": [
       "array([[ 0,  1,  2,  3,  4],\n",
       "       [ 5,  6,  7,  8,  9],\n",
       "       [10, 11, 12, 13, 14],\n",
       "       [15, 16, 17, 18, 19],\n",
       "       [20, 21, 22, 23, 24]])"
      ]
     },
     "execution_count": 576,
     "metadata": {},
     "output_type": "execute_result"
    }
   ],
   "source": [
    "arr"
   ]
  },
  {
   "cell_type": "code",
   "execution_count": 577,
   "id": "618b10de-0538-4673-809c-2ae16e11938f",
   "metadata": {},
   "outputs": [
    {
     "data": {
      "text/plain": [
       "(5, 5)"
      ]
     },
     "execution_count": 577,
     "metadata": {},
     "output_type": "execute_result"
    }
   ],
   "source": [
    "arr.shape"
   ]
  },
  {
   "cell_type": "code",
   "execution_count": 578,
   "id": "f8a73587-cecd-4668-bc34-94e25dd9e1e2",
   "metadata": {},
   "outputs": [
    {
     "data": {
      "text/plain": [
       "array([[ 0],\n",
       "       [ 1],\n",
       "       [ 2],\n",
       "       [ 3],\n",
       "       [ 4],\n",
       "       [ 5],\n",
       "       [ 6],\n",
       "       [ 7],\n",
       "       [ 8],\n",
       "       [ 9],\n",
       "       [10],\n",
       "       [11],\n",
       "       [12],\n",
       "       [13],\n",
       "       [14],\n",
       "       [15],\n",
       "       [16],\n",
       "       [17],\n",
       "       [18],\n",
       "       [19],\n",
       "       [20],\n",
       "       [21],\n",
       "       [22],\n",
       "       [23],\n",
       "       [24]])"
      ]
     },
     "execution_count": 578,
     "metadata": {},
     "output_type": "execute_result"
    }
   ],
   "source": [
    "# Reshape arr to a 25x1 matrix\n",
    "arr.reshape(25,1)"
   ]
  },
  {
   "cell_type": "code",
   "execution_count": 579,
   "id": "f0d1671a-c57f-4f17-8df1-2fe631688c3f",
   "metadata": {},
   "outputs": [
    {
     "data": {
      "text/plain": [
       "array([[ 0,  1,  2,  3,  4,  5,  6,  7,  8,  9, 10, 11, 12, 13, 14, 15,\n",
       "        16, 17, 18, 19, 20, 21, 22, 23, 24]])"
      ]
     },
     "execution_count": 579,
     "metadata": {},
     "output_type": "execute_result"
    }
   ],
   "source": [
    "# Reshape arr to a 1x25 matrix\n",
    "arr.reshape(1,25)"
   ]
  },
  {
   "cell_type": "markdown",
   "id": "6b71bae7-d67d-4934-88a2-4d92b2ffc92d",
   "metadata": {},
   "source": [
    "### Udemy Task:"
   ]
  },
  {
   "cell_type": "markdown",
   "id": "12ca7bb3-cdb3-414f-a331-592c476d7768",
   "metadata": {},
   "source": [
    "##### Create a numpy array called myarray which consists of 101 evenly linearly spaced points between 0 and 10."
   ]
  },
  {
   "cell_type": "code",
   "execution_count": 582,
   "id": "e5cb25f3-0bf9-41e9-befb-da1550904dac",
   "metadata": {},
   "outputs": [
    {
     "data": {
      "text/plain": [
       "array([ 0. ,  0.1,  0.2,  0.3,  0.4,  0.5,  0.6,  0.7,  0.8,  0.9,  1. ,\n",
       "        1.1,  1.2,  1.3,  1.4,  1.5,  1.6,  1.7,  1.8,  1.9,  2. ,  2.1,\n",
       "        2.2,  2.3,  2.4,  2.5,  2.6,  2.7,  2.8,  2.9,  3. ,  3.1,  3.2,\n",
       "        3.3,  3.4,  3.5,  3.6,  3.7,  3.8,  3.9,  4. ,  4.1,  4.2,  4.3,\n",
       "        4.4,  4.5,  4.6,  4.7,  4.8,  4.9,  5. ,  5.1,  5.2,  5.3,  5.4,\n",
       "        5.5,  5.6,  5.7,  5.8,  5.9,  6. ,  6.1,  6.2,  6.3,  6.4,  6.5,\n",
       "        6.6,  6.7,  6.8,  6.9,  7. ,  7.1,  7.2,  7.3,  7.4,  7.5,  7.6,\n",
       "        7.7,  7.8,  7.9,  8. ,  8.1,  8.2,  8.3,  8.4,  8.5,  8.6,  8.7,\n",
       "        8.8,  8.9,  9. ,  9.1,  9.2,  9.3,  9.4,  9.5,  9.6,  9.7,  9.8,\n",
       "        9.9, 10. ])"
      ]
     },
     "execution_count": 582,
     "metadata": {},
     "output_type": "execute_result"
    }
   ],
   "source": [
    "myarray = np.linspace(0, 10, 101)\n",
    "myarray"
   ]
  },
  {
   "cell_type": "markdown",
   "id": "d2b060a7-e0eb-4960-9ad1-76d9bfa18674",
   "metadata": {},
   "source": [
    "\n",
    "### This script demonstrates basic NumPy operations such as:\n",
    "##### \"NumPy Array Indexing\", \"Slicing\", and \"Conditional Selection\":\n"
   ]
  },
  {
   "cell_type": "markdown",
   "id": "dca85adb-81d5-489c-ae82-1f8035f4ae92",
   "metadata": {},
   "source": [
    "### 1. Indexing and selecting elements from 1D and 2D arrays.\n"
   ]
  },
  {
   "cell_type": "code",
   "execution_count": 585,
   "id": "ad5e0606-8fe1-45e6-9a07-20484dac8788",
   "metadata": {},
   "outputs": [
    {
     "data": {
      "text/plain": [
       "array([0, 1, 2, 3, 4, 5, 6, 7, 8, 9])"
      ]
     },
     "execution_count": 585,
     "metadata": {},
     "output_type": "execute_result"
    }
   ],
   "source": [
    "# Creating a NumPy array from a range of values\n",
    "\n",
    "arr_arrange = np.arange(0,10)\n",
    "arr_arrange"
   ]
  },
  {
   "cell_type": "code",
   "execution_count": 586,
   "id": "35f2daa8-d0b9-4ab6-bff2-fedbefcc4ce1",
   "metadata": {},
   "outputs": [
    {
     "data": {
      "text/plain": [
       "8"
      ]
     },
     "execution_count": 586,
     "metadata": {},
     "output_type": "execute_result"
    }
   ],
   "source": [
    "# Accessing elements using indexing\n",
    "arr_arrange[8]"
   ]
  },
  {
   "cell_type": "code",
   "execution_count": 587,
   "id": "45bb7ec0-e313-4311-8fbb-be4b53cb364c",
   "metadata": {},
   "outputs": [
    {
     "data": {
      "text/plain": [
       "array([0, 1, 2, 3, 4])"
      ]
     },
     "execution_count": 587,
     "metadata": {},
     "output_type": "execute_result"
    }
   ],
   "source": [
    "arr_arrange[0:5]\n"
   ]
  },
  {
   "cell_type": "code",
   "execution_count": 588,
   "id": "d940aebe-ee69-4684-9c5a-28521cfe0a56",
   "metadata": {},
   "outputs": [
    {
     "data": {
      "text/plain": [
       "array([0, 1, 2, 3, 4])"
      ]
     },
     "execution_count": 588,
     "metadata": {},
     "output_type": "execute_result"
    }
   ],
   "source": [
    "arr_arrange [:5]\n"
   ]
  },
  {
   "cell_type": "code",
   "execution_count": 589,
   "id": "58a9df37-4260-44ef-a43b-2e47be4f6f21",
   "metadata": {},
   "outputs": [
    {
     "data": {
      "text/plain": [
       "array([5, 6, 7, 8, 9])"
      ]
     },
     "execution_count": 589,
     "metadata": {},
     "output_type": "execute_result"
    }
   ],
   "source": [
    "arr_arrange[5:]\n"
   ]
  },
  {
   "cell_type": "code",
   "execution_count": 590,
   "id": "3480bd02-b8c8-4728-aa3a-08e25e82159a",
   "metadata": {},
   "outputs": [
    {
     "data": {
      "text/plain": [
       "array([5, 6, 7, 8, 9])"
      ]
     },
     "execution_count": 590,
     "metadata": {},
     "output_type": "execute_result"
    }
   ],
   "source": [
    "arr_arrange[5:10]"
   ]
  },
  {
   "cell_type": "markdown",
   "id": "82481ea0-48d3-4078-a779-4bef6c5e9bb7",
   "metadata": {},
   "source": [
    "### 2. Modifying array elements using slicing and broadcasting.\n"
   ]
  },
  {
   "cell_type": "markdown",
   "id": "0014e427-c15a-4f5f-98c7-f5cc7568d085",
   "metadata": {},
   "source": [
    "##### broadcasting"
   ]
  },
  {
   "cell_type": "code",
   "execution_count": 593,
   "id": "f73c474a-8191-4eea-98c6-857884c0c02a",
   "metadata": {},
   "outputs": [
    {
     "data": {
      "text/plain": [
       "array([0, 1, 2, 3, 4, 5, 6, 7, 8, 9])"
      ]
     },
     "execution_count": 593,
     "metadata": {},
     "output_type": "execute_result"
    }
   ],
   "source": [
    "arr_arrange"
   ]
  },
  {
   "cell_type": "code",
   "execution_count": 594,
   "id": "469e022b-3dc2-4c33-a032-8a036a196613",
   "metadata": {},
   "outputs": [],
   "source": [
    "# Broadcasting: modifying a section of the array\n",
    "arr_arrange[5:10] = 100"
   ]
  },
  {
   "cell_type": "code",
   "execution_count": 595,
   "id": "8f4d5d04-ee4b-4a01-8390-f67a51cd2c63",
   "metadata": {},
   "outputs": [
    {
     "data": {
      "text/plain": [
       "array([  0,   1,   2,   3,   4, 100, 100, 100, 100, 100])"
      ]
     },
     "execution_count": 595,
     "metadata": {},
     "output_type": "execute_result"
    }
   ],
   "source": [
    "arr_arrange"
   ]
  },
  {
   "cell_type": "code",
   "execution_count": 596,
   "id": "b599c310-a691-4713-b501-5e3e310b6604",
   "metadata": {},
   "outputs": [],
   "source": [
    "arr = np.arange (0,11)"
   ]
  },
  {
   "cell_type": "code",
   "execution_count": 597,
   "id": "62931b93-cbaf-483d-a9b2-91836a35cabf",
   "metadata": {},
   "outputs": [],
   "source": [
    "slice_of_arry = arr [0:5]"
   ]
  },
  {
   "cell_type": "markdown",
   "id": "f0c05594-253f-4770-b2cb-2017c6303ffc",
   "metadata": {},
   "source": [
    "##### Slicing"
   ]
  },
  {
   "cell_type": "code",
   "execution_count": 599,
   "id": "1dff7446-76ba-4099-972b-0e2fca72044e",
   "metadata": {},
   "outputs": [
    {
     "data": {
      "text/plain": [
       "array([0, 1, 2, 3, 4])"
      ]
     },
     "execution_count": 599,
     "metadata": {},
     "output_type": "execute_result"
    }
   ],
   "source": [
    "slice_of_arry"
   ]
  },
  {
   "cell_type": "code",
   "execution_count": 600,
   "id": "6946073a-a25b-4b6b-ba85-767d545fd99e",
   "metadata": {},
   "outputs": [
    {
     "data": {
      "text/plain": [
       "array([ 0,  1,  2,  3,  4,  5,  6,  7,  8,  9, 10])"
      ]
     },
     "execution_count": 600,
     "metadata": {},
     "output_type": "execute_result"
    }
   ],
   "source": [
    "arr"
   ]
  },
  {
   "cell_type": "code",
   "execution_count": 601,
   "id": "873ed7ed-35eb-49ab-9346-ebd08efdce8a",
   "metadata": {},
   "outputs": [],
   "source": [
    "# Creating and modifying slices\n",
    "# the slice of Arry has affected the original array\n",
    "\n",
    "slice_of_arry [:] = 99 # to select everything"
   ]
  },
  {
   "cell_type": "code",
   "execution_count": 602,
   "id": "1a120f25-9027-4c20-bfd7-0e07f4ed145e",
   "metadata": {},
   "outputs": [
    {
     "data": {
      "text/plain": [
       "array([99, 99, 99, 99, 99])"
      ]
     },
     "execution_count": 602,
     "metadata": {},
     "output_type": "execute_result"
    }
   ],
   "source": [
    "slice_of_arry"
   ]
  },
  {
   "cell_type": "code",
   "execution_count": 603,
   "id": "97142731-d69a-45e3-b23c-811617521690",
   "metadata": {},
   "outputs": [
    {
     "data": {
      "text/plain": [
       "array([99, 99, 99, 99, 99,  5,  6,  7,  8,  9, 10])"
      ]
     },
     "execution_count": 603,
     "metadata": {},
     "output_type": "execute_result"
    }
   ],
   "source": [
    "arr"
   ]
  },
  {
   "cell_type": "markdown",
   "id": "cd49ab45-ce63-4351-8887-a90fe5046a9f",
   "metadata": {},
   "source": [
    "##### Creating a copy of an array and understanding the effect of slicing on the original array.\n"
   ]
  },
  {
   "cell_type": "code",
   "execution_count": 605,
   "id": "a4342ab4-ae02-4ce0-bd9b-cfb50f392a69",
   "metadata": {},
   "outputs": [],
   "source": [
    "# Copying the original array to avoid affecting it\n",
    "arr_copy = arr.copy()"
   ]
  },
  {
   "cell_type": "code",
   "execution_count": 606,
   "id": "57fa6df5-0cef-4fed-b0e7-970f77311082",
   "metadata": {},
   "outputs": [],
   "source": [
    "arr_copy[:] = 100"
   ]
  },
  {
   "cell_type": "code",
   "execution_count": 607,
   "id": "1d7d4b48-14c7-4d0e-9c4f-f674b7d67f50",
   "metadata": {},
   "outputs": [
    {
     "data": {
      "text/plain": [
       "array([100, 100, 100, 100, 100, 100, 100, 100, 100, 100, 100])"
      ]
     },
     "execution_count": 607,
     "metadata": {},
     "output_type": "execute_result"
    }
   ],
   "source": [
    "arr_copy"
   ]
  },
  {
   "cell_type": "code",
   "execution_count": 608,
   "id": "e54e50dc-5380-4390-9bd0-c325e4fb6506",
   "metadata": {},
   "outputs": [
    {
     "data": {
      "text/plain": [
       "array([99, 99, 99, 99, 99,  5,  6,  7,  8,  9, 10])"
      ]
     },
     "execution_count": 608,
     "metadata": {},
     "output_type": "execute_result"
    }
   ],
   "source": [
    "# the original array has not been changed because of specifying .copr()\n",
    "arr"
   ]
  },
  {
   "cell_type": "markdown",
   "id": "d3c8a1c1-3294-4f0c-8021-7f222aad5f22",
   "metadata": {},
   "source": [
    "##### Indixing on 2d lists or matrix"
   ]
  },
  {
   "cell_type": "code",
   "execution_count": 610,
   "id": "9aa20f69-e53e-4220-9622-c7d63bf7c578",
   "metadata": {},
   "outputs": [
    {
     "data": {
      "text/plain": [
       "array([[ 1,  2,  3],\n",
       "       [ 4,  5,  6],\n",
       "       [67,  8,  9]])"
      ]
     },
     "execution_count": 610,
     "metadata": {},
     "output_type": "execute_result"
    }
   ],
   "source": [
    "# 2D Array (Matrix) Example\n",
    "arr_2d = np.array([[1,2,3],[4,5,6],[67,8,9]])\n",
    "arr_2d"
   ]
  },
  {
   "cell_type": "code",
   "execution_count": 611,
   "id": "b461133a-df10-4716-9991-b1d0e3a7549f",
   "metadata": {},
   "outputs": [
    {
     "data": {
      "text/plain": [
       "(3, 3)"
      ]
     },
     "execution_count": 611,
     "metadata": {},
     "output_type": "execute_result"
    }
   ],
   "source": [
    "#number of rows (first), then number of columns (second)\n",
    "arr_2d.shape"
   ]
  },
  {
   "cell_type": "code",
   "execution_count": 612,
   "id": "097e082f-c850-4599-a8a1-cb27a33e99af",
   "metadata": {},
   "outputs": [
    {
     "data": {
      "text/plain": [
       "array([1, 2, 3])"
      ]
     },
     "execution_count": 612,
     "metadata": {},
     "output_type": "execute_result"
    }
   ],
   "source": [
    "# Accessing elements in a 2D array\n",
    "arr_2d[0]"
   ]
  },
  {
   "cell_type": "code",
   "execution_count": 613,
   "id": "43a77914-93d8-4692-9457-b8f943083a0d",
   "metadata": {},
   "outputs": [
    {
     "data": {
      "text/plain": [
       "array([67,  8,  9])"
      ]
     },
     "execution_count": 613,
     "metadata": {},
     "output_type": "execute_result"
    }
   ],
   "source": [
    "arr_2d[2]"
   ]
  },
  {
   "cell_type": "code",
   "execution_count": 614,
   "id": "e390cea8-511b-4ead-940e-431bc68a5229",
   "metadata": {},
   "outputs": [
    {
     "data": {
      "text/plain": [
       "8"
      ]
     },
     "execution_count": 614,
     "metadata": {},
     "output_type": "execute_result"
    }
   ],
   "source": [
    "arr_2d[2][1]"
   ]
  },
  {
   "cell_type": "code",
   "execution_count": 615,
   "id": "c3309826-1cd6-4fdc-a67c-41d142843116",
   "metadata": {},
   "outputs": [
    {
     "data": {
      "text/plain": [
       "8"
      ]
     },
     "execution_count": 615,
     "metadata": {},
     "output_type": "execute_result"
    }
   ],
   "source": [
    "arr_2d[2,1]\n"
   ]
  },
  {
   "cell_type": "code",
   "execution_count": 616,
   "id": "19e26a29-aba4-4031-ba78-6e154e947550",
   "metadata": {},
   "outputs": [
    {
     "data": {
      "text/plain": [
       "array([[2, 3],\n",
       "       [5, 6]])"
      ]
     },
     "execution_count": 616,
     "metadata": {},
     "output_type": "execute_result"
    }
   ],
   "source": [
    "arr_2d [:2,1:]"
   ]
  },
  {
   "cell_type": "markdown",
   "id": "eb7147a8-989a-46f2-af45-31baa8832140",
   "metadata": {},
   "source": [
    "### 3.conditional selection"
   ]
  },
  {
   "cell_type": "code",
   "execution_count": 618,
   "id": "fa427542-b90c-4d3d-9cdb-837af8baec71",
   "metadata": {},
   "outputs": [],
   "source": [
    "# Conditional selection\n",
    "arr = np.arange (1,11)"
   ]
  },
  {
   "cell_type": "code",
   "execution_count": 619,
   "id": "00984c02-ff8b-4415-9799-3bee5f4ee746",
   "metadata": {},
   "outputs": [
    {
     "data": {
      "text/plain": [
       "array([False, False, False, False,  True,  True,  True,  True,  True,\n",
       "        True])"
      ]
     },
     "execution_count": 619,
     "metadata": {},
     "output_type": "execute_result"
    }
   ],
   "source": [
    "arr > 4"
   ]
  },
  {
   "cell_type": "code",
   "execution_count": 620,
   "id": "d79ae941-fc3f-4f8e-ae67-d992dd7ef73d",
   "metadata": {},
   "outputs": [],
   "source": [
    "boolean_arr = arr > 4"
   ]
  },
  {
   "cell_type": "code",
   "execution_count": 621,
   "id": "6838b99e-2e94-4f6b-8911-d59704e295d0",
   "metadata": {},
   "outputs": [
    {
     "data": {
      "text/plain": [
       "array([ 5,  6,  7,  8,  9, 10])"
      ]
     },
     "execution_count": 621,
     "metadata": {},
     "output_type": "execute_result"
    }
   ],
   "source": [
    "arr[boolean_arr]"
   ]
  },
  {
   "cell_type": "code",
   "execution_count": 622,
   "id": "5aad9750-7b34-4bff-96d9-21357e3e0f01",
   "metadata": {},
   "outputs": [
    {
     "data": {
      "text/plain": [
       "array([ 5,  6,  7,  8,  9, 10])"
      ]
     },
     "execution_count": 622,
     "metadata": {},
     "output_type": "execute_result"
    }
   ],
   "source": [
    "arr[arr>4]"
   ]
  },
  {
   "cell_type": "markdown",
   "id": "8fead07f-835f-4074-b1e0-d910e89e862d",
   "metadata": {},
   "source": [
    "### Udemy Task:"
   ]
  },
  {
   "cell_type": "markdown",
   "id": "48d9b346-3727-496e-a0c4-b8d409c713fe",
   "metadata": {},
   "source": [
    "##### Use numpy to check how many rolls were greater than 2. For example if dice_rolls=[1,2,3] then the answer is 1.\n"
   ]
  },
  {
   "cell_type": "code",
   "execution_count": 625,
   "id": "2adceb71-226c-4674-b971-c7ccd1a8fc0b",
   "metadata": {},
   "outputs": [
    {
     "data": {
      "text/plain": [
       "19"
      ]
     },
     "execution_count": 625,
     "metadata": {},
     "output_type": "execute_result"
    }
   ],
   "source": [
    "dice_rolls = np.array([3, 1, 5, 2, 5, 1, 1, 5, 1, 4, 2, 1, 4, 5, 3, 4, 5, 2, 4, 2, 6, 6, 3, 6, 2, 3, 5, 6, 5])\n",
    "\n",
    "total_rolls_over_two =np.sum(dice_rolls > 2)\n",
    "total_rolls_over_two\n"
   ]
  },
  {
   "cell_type": "code",
   "execution_count": null,
   "id": "90316d63-5511-4e22-88e4-da1b710b7c12",
   "metadata": {},
   "outputs": [],
   "source": []
  }
 ],
 "metadata": {
  "kernelspec": {
   "display_name": "Python 3 (ipykernel)",
   "language": "python",
   "name": "python3"
  },
  "language_info": {
   "codemirror_mode": {
    "name": "ipython",
    "version": 3
   },
   "file_extension": ".py",
   "mimetype": "text/x-python",
   "name": "python",
   "nbconvert_exporter": "python",
   "pygments_lexer": "ipython3",
   "version": "3.12.4"
  }
 },
 "nbformat": 4,
 "nbformat_minor": 5
}
