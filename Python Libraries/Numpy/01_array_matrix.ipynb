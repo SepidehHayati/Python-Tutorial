{
 "cells": [
  {
   "cell_type": "markdown",
   "id": "8d27e7e8-b5d5-44b8-a66b-4bff971671e7",
   "metadata": {},
   "source": [
    "### List of function in Numpy"
   ]
  },
  {
   "cell_type": "markdown",
   "id": "39f05568-8580-4858-94d2-0e21b55535f2",
   "metadata": {},
   "source": [
    "##### key NumPy functionalities such as:\n",
    "  np.array(),  np.arange(),   np.zeros(),  np.ones(),   np.linspace(), np.eye(), \n",
    "\n",
    " "
   ]
  },
  {
   "cell_type": "code",
   "execution_count": 7,
   "id": "7bbfcc3f-d2c4-44be-9ff7-a8c4c631eb0f",
   "metadata": {},
   "outputs": [],
   "source": [
    "import numpy as np"
   ]
  },
  {
   "cell_type": "markdown",
   "id": "21a9d7bc-4b75-40bb-a023-aa289d5362fe",
   "metadata": {},
   "source": [
    "### Numpy List"
   ]
  },
  {
   "cell_type": "code",
   "execution_count": 9,
   "id": "1706277c-7732-4988-8f67-f806e0a532a5",
   "metadata": {},
   "outputs": [
    {
     "data": {
      "text/plain": [
       "list"
      ]
     },
     "execution_count": 9,
     "metadata": {},
     "output_type": "execute_result"
    }
   ],
   "source": [
    "# Defining a Python list\n",
    "my_list = [1, 2, 3] \n",
    "type(my_list)"
   ]
  },
  {
   "cell_type": "code",
   "execution_count": 10,
   "id": "92ac88fc-c4a7-41ae-b1ff-1aeab1d2e653",
   "metadata": {},
   "outputs": [
    {
     "data": {
      "text/plain": [
       "[1, 2, 3]"
      ]
     },
     "execution_count": 10,
     "metadata": {},
     "output_type": "execute_result"
    }
   ],
   "source": [
    "# Display the content of the list\n",
    "my_list"
   ]
  },
  {
   "cell_type": "markdown",
   "id": "3cc67a63-bf54-4ad5-a375-b93e41e11aef",
   "metadata": {},
   "source": []
  },
  {
   "cell_type": "code",
   "execution_count": 12,
   "id": "6c38306a-bd61-4f60-bc29-e63f5a3ee37a",
   "metadata": {},
   "outputs": [
    {
     "data": {
      "text/plain": [
       "list"
      ]
     },
     "execution_count": 12,
     "metadata": {},
     "output_type": "execute_result"
    }
   ],
   "source": [
    "# Check the type of my_list, which is a Python list\n",
    "type (my_list)"
   ]
  },
  {
   "cell_type": "code",
   "execution_count": 13,
   "id": "d2476277-79c8-43ee-a1ef-93061f2266b0",
   "metadata": {},
   "outputs": [
    {
     "data": {
      "text/plain": [
       "array([1, 2, 3])"
      ]
     },
     "execution_count": 13,
     "metadata": {},
     "output_type": "execute_result"
    }
   ],
   "source": [
    "# Convert the list to a numpy array\n",
    "\n",
    "np.array(my_list)"
   ]
  },
  {
   "cell_type": "code",
   "execution_count": 14,
   "id": "918397b8-3730-4c9e-9c78-7ce195f98002",
   "metadata": {},
   "outputs": [
    {
     "data": {
      "text/plain": [
       "[1, 2, 3]"
      ]
     },
     "execution_count": 14,
     "metadata": {},
     "output_type": "execute_result"
    }
   ],
   "source": [
    "# Display the original list again to show it remains unchanged\n",
    "\n",
    "my_list"
   ]
  },
  {
   "cell_type": "code",
   "execution_count": 15,
   "id": "69b92d29-cb8b-442e-8a2b-8615a5f5dda5",
   "metadata": {},
   "outputs": [],
   "source": [
    "# Convert the list to a numpy array and store it in my_array\n",
    "\n",
    "my_array = np.array(my_list)"
   ]
  },
  {
   "cell_type": "code",
   "execution_count": 16,
   "id": "6dd22d09-4669-4e8e-8e72-3fb5a6d77346",
   "metadata": {},
   "outputs": [
    {
     "data": {
      "text/plain": [
       "array([1, 2, 3])"
      ]
     },
     "execution_count": 16,
     "metadata": {},
     "output_type": "execute_result"
    }
   ],
   "source": [
    "my_array"
   ]
  },
  {
   "cell_type": "code",
   "execution_count": 17,
   "id": "0616aed0-1693-44f7-8260-db6a24eb6fe8",
   "metadata": {},
   "outputs": [],
   "source": [
    "# check the type of the list"
   ]
  },
  {
   "cell_type": "code",
   "execution_count": 18,
   "id": "3e374a50-dc63-4fb7-b7af-a5eb37f15790",
   "metadata": {},
   "outputs": [
    {
     "data": {
      "text/plain": [
       "numpy.ndarray"
      ]
     },
     "execution_count": 18,
     "metadata": {},
     "output_type": "execute_result"
    }
   ],
   "source": [
    "# Check the type of my_array, which is now a numpy ndarray\n",
    "\n",
    "type (my_array)"
   ]
  },
  {
   "cell_type": "markdown",
   "id": "941ee1cf-32f6-4273-8205-71e8194d6fe5",
   "metadata": {},
   "source": [
    "### Numpy 2D List: Matrix"
   ]
  },
  {
   "cell_type": "code",
   "execution_count": 20,
   "id": "25d65e3a-34bf-431f-a84a-8d25a902a283",
   "metadata": {},
   "outputs": [],
   "source": [
    "# Define a 2D list (matrix)\n",
    "\n",
    "my_matrix = [[1,2,3], [4,5,6],[7,8,9]]"
   ]
  },
  {
   "cell_type": "code",
   "execution_count": 21,
   "id": "c4ddd266-eca8-4bf9-a85c-f57876ab75f1",
   "metadata": {},
   "outputs": [
    {
     "data": {
      "text/plain": [
       "[[1, 2, 3], [4, 5, 6], [7, 8, 9]]"
      ]
     },
     "execution_count": 21,
     "metadata": {},
     "output_type": "execute_result"
    }
   ],
   "source": [
    "my_matrix"
   ]
  },
  {
   "cell_type": "code",
   "execution_count": 22,
   "id": "e64771df-4bc9-4269-bdb2-36d210e061c9",
   "metadata": {},
   "outputs": [
    {
     "data": {
      "text/plain": [
       "list"
      ]
     },
     "execution_count": 22,
     "metadata": {},
     "output_type": "execute_result"
    }
   ],
   "source": [
    "type (my_matrix)"
   ]
  },
  {
   "cell_type": "code",
   "execution_count": 23,
   "id": "0a77455f-f322-483d-908c-bb7da6185787",
   "metadata": {},
   "outputs": [],
   "source": [
    "# Convert the 2D list to a numpy array (2D matrix)\n",
    "\n",
    "np_matrix = np.array(my_matrix)"
   ]
  },
  {
   "cell_type": "code",
   "execution_count": 24,
   "id": "21cb5d41-fc37-41cc-b817-77737cc08d27",
   "metadata": {},
   "outputs": [
    {
     "data": {
      "text/plain": [
       "array([[1, 2, 3],\n",
       "       [4, 5, 6],\n",
       "       [7, 8, 9]])"
      ]
     },
     "execution_count": 24,
     "metadata": {},
     "output_type": "execute_result"
    }
   ],
   "source": [
    "np_matrix"
   ]
  },
  {
   "cell_type": "markdown",
   "id": "02c1250b-f7a6-4cf9-8498-69c1e6b4c335",
   "metadata": {},
   "source": [
    "### Numpy: np.arange (-,-)"
   ]
  },
  {
   "cell_type": "code",
   "execution_count": 26,
   "id": "84ffe7e2-128f-4034-89eb-3f6a047b14e5",
   "metadata": {},
   "outputs": [
    {
     "data": {
      "text/plain": [
       "array([ 0,  1,  2,  3,  4,  5,  6,  7,  8,  9, 10, 11])"
      ]
     },
     "execution_count": 26,
     "metadata": {},
     "output_type": "execute_result"
    }
   ],
   "source": [
    "# Use np.arange to generate an array with values from 0 to 11 (exclusive)\n",
    "\n",
    "np.arange(0,12)"
   ]
  },
  {
   "cell_type": "code",
   "execution_count": 27,
   "id": "288803fb-81e5-43d0-ae61-ddb74605a1b1",
   "metadata": {},
   "outputs": [
    {
     "data": {
      "text/plain": [
       "array([  0,  20,  40,  60,  80, 100])"
      ]
     },
     "execution_count": 27,
     "metadata": {},
     "output_type": "execute_result"
    }
   ],
   "source": [
    "# Use np.arange to generate an array with a step size of 20\n",
    "\n",
    "np.arange(0,101,20) #step size"
   ]
  },
  {
   "cell_type": "code",
   "execution_count": 28,
   "id": "7eb441ec-d2c3-4036-a1d7-e8564942bb64",
   "metadata": {},
   "outputs": [
    {
     "data": {
      "text/plain": [
       "numpy.ndarray"
      ]
     },
     "execution_count": 28,
     "metadata": {},
     "output_type": "execute_result"
    }
   ],
   "source": [
    "# Check the type of np_matrix, which is a numpy ndarray\n",
    "type (np_matrix)"
   ]
  },
  {
   "cell_type": "markdown",
   "id": "870b3fd6-becd-4293-a6e1-5f15b79f6405",
   "metadata": {},
   "source": [
    "### Numpy: np.zeros()"
   ]
  },
  {
   "cell_type": "code",
   "execution_count": 30,
   "id": "66452c75-c10b-4e97-b68c-a140e3a119d9",
   "metadata": {},
   "outputs": [
    {
     "data": {
      "text/plain": [
       "array([0., 0., 0., 0., 0.])"
      ]
     },
     "execution_count": 30,
     "metadata": {},
     "output_type": "execute_result"
    }
   ],
   "source": [
    "# Generate an array of 5 zeros\n",
    "np.zeros(5)"
   ]
  },
  {
   "cell_type": "code",
   "execution_count": 31,
   "id": "9df28f44-7d7b-49f8-a9ae-a096f3c90899",
   "metadata": {},
   "outputs": [
    {
     "data": {
      "text/plain": [
       "array([[0., 0., 0., 0., 0.],\n",
       "       [0., 0., 0., 0., 0.]])"
      ]
     },
     "execution_count": 31,
     "metadata": {},
     "output_type": "execute_result"
    }
   ],
   "source": [
    "# Generate a 2x5 matrix of zeros\n",
    "np.zeros((2,5))"
   ]
  },
  {
   "cell_type": "markdown",
   "id": "ffe54f5f-536c-4da3-a483-7c2fafc03aa2",
   "metadata": {},
   "source": [
    "### Numpy: np.ones()"
   ]
  },
  {
   "cell_type": "code",
   "execution_count": 33,
   "id": "1145e536-56e0-42dd-8240-4f2ad6c1c23f",
   "metadata": {},
   "outputs": [
    {
     "data": {
      "text/plain": [
       "array([[1., 1., 1., 1.],\n",
       "       [1., 1., 1., 1.]])"
      ]
     },
     "execution_count": 33,
     "metadata": {},
     "output_type": "execute_result"
    }
   ],
   "source": [
    "# Generate a 2x4 matrix of ones\n",
    "np.ones((2,4))"
   ]
  },
  {
   "cell_type": "code",
   "execution_count": 34,
   "id": "11bfdd40-50c9-45bb-b64f-68e6dad37684",
   "metadata": {},
   "outputs": [
    {
     "data": {
      "text/plain": [
       "array([1., 1., 1., 1., 1.])"
      ]
     },
     "execution_count": 34,
     "metadata": {},
     "output_type": "execute_result"
    }
   ],
   "source": [
    "# Generate an array of 5 ones\n",
    "np.ones(5)"
   ]
  },
  {
   "cell_type": "markdown",
   "id": "11f63977-3299-4b56-b8e8-ca06c4d1293e",
   "metadata": {},
   "source": [
    "### Numpy: np.linspace()"
   ]
  },
  {
   "cell_type": "code",
   "execution_count": 36,
   "id": "096ee1e4-9515-452d-ad26-e3bbc47e4145",
   "metadata": {},
   "outputs": [
    {
     "data": {
      "text/plain": [
       "array([ 0.,  1.,  2.,  3.,  4.,  5.,  6.,  7.,  8.,  9., 10.])"
      ]
     },
     "execution_count": 36,
     "metadata": {},
     "output_type": "execute_result"
    }
   ],
   "source": [
    "# Generate 11 equally spaced values between 0 and 10 (inclusive)\n",
    "np.linspace(0,10,11)"
   ]
  },
  {
   "cell_type": "code",
   "execution_count": 37,
   "id": "5c81781b-8138-4785-b6fe-71daddf0a80b",
   "metadata": {},
   "outputs": [
    {
     "data": {
      "text/plain": [
       "array([ 0.,  2.,  4.,  6.,  8., 10.])"
      ]
     },
     "execution_count": 37,
     "metadata": {},
     "output_type": "execute_result"
    }
   ],
   "source": [
    "# Generate 6 equally spaced values between 0 and 10 (inclusive)\n",
    "np.linspace(0,10,6)"
   ]
  },
  {
   "cell_type": "code",
   "execution_count": 38,
   "id": "4ec3ce83-9b53-4fa3-9274-39d14554a511",
   "metadata": {},
   "outputs": [
    {
     "data": {
      "text/plain": [
       "6"
      ]
     },
     "execution_count": 38,
     "metadata": {},
     "output_type": "execute_result"
    }
   ],
   "source": [
    "# Get the length of the array generated by linspace\n",
    "len (np.linspace(0,10,6))"
   ]
  },
  {
   "cell_type": "markdown",
   "id": "df153199-202b-41d8-b049-f2ab3e25ac7e",
   "metadata": {},
   "source": [
    "### Numpy: np.eye()"
   ]
  },
  {
   "cell_type": "code",
   "execution_count": 40,
   "id": "d6a4e329-a644-46ce-b975-b4f537ba297c",
   "metadata": {},
   "outputs": [
    {
     "data": {
      "text/plain": [
       "array([[1., 0., 0., 0.],\n",
       "       [0., 1., 0., 0.],\n",
       "       [0., 0., 1., 0.],\n",
       "       [0., 0., 0., 1.]])"
      ]
     },
     "execution_count": 40,
     "metadata": {},
     "output_type": "execute_result"
    }
   ],
   "source": [
    "# Generate a 4x4 identity matrix (ones on the diagonal, zeros elsewhere)\n",
    "np.eye(4)"
   ]
  },
  {
   "cell_type": "markdown",
   "id": "8fead07f-835f-4074-b1e0-d910e89e862d",
   "metadata": {},
   "source": [
    "### Udemy Task:"
   ]
  },
  {
   "cell_type": "markdown",
   "id": "02aa4e5b-697c-4171-923b-2bad9539f77c",
   "metadata": {},
   "source": [
    "##### Create a numpy array called myarray which consists of 101 evenly linearly spaced points between 0 and 10."
   ]
  },
  {
   "cell_type": "code",
   "execution_count": 43,
   "id": "a4e90738-f250-4be2-9d17-7739a152855f",
   "metadata": {},
   "outputs": [
    {
     "data": {
      "text/plain": [
       "array([ 0. ,  0.1,  0.2,  0.3,  0.4,  0.5,  0.6,  0.7,  0.8,  0.9,  1. ,\n",
       "        1.1,  1.2,  1.3,  1.4,  1.5,  1.6,  1.7,  1.8,  1.9,  2. ,  2.1,\n",
       "        2.2,  2.3,  2.4,  2.5,  2.6,  2.7,  2.8,  2.9,  3. ,  3.1,  3.2,\n",
       "        3.3,  3.4,  3.5,  3.6,  3.7,  3.8,  3.9,  4. ,  4.1,  4.2,  4.3,\n",
       "        4.4,  4.5,  4.6,  4.7,  4.8,  4.9,  5. ,  5.1,  5.2,  5.3,  5.4,\n",
       "        5.5,  5.6,  5.7,  5.8,  5.9,  6. ,  6.1,  6.2,  6.3,  6.4,  6.5,\n",
       "        6.6,  6.7,  6.8,  6.9,  7. ,  7.1,  7.2,  7.3,  7.4,  7.5,  7.6,\n",
       "        7.7,  7.8,  7.9,  8. ,  8.1,  8.2,  8.3,  8.4,  8.5,  8.6,  8.7,\n",
       "        8.8,  8.9,  9. ,  9.1,  9.2,  9.3,  9.4,  9.5,  9.6,  9.7,  9.8,\n",
       "        9.9, 10. ])"
      ]
     },
     "execution_count": 43,
     "metadata": {},
     "output_type": "execute_result"
    }
   ],
   "source": [
    "myarray = np.linspace(0, 10, 101)\n",
    "myarray"
   ]
  }
 ],
 "metadata": {
  "kernelspec": {
   "display_name": "Python 3 (ipykernel)",
   "language": "python",
   "name": "python3"
  },
  "language_info": {
   "codemirror_mode": {
    "name": "ipython",
    "version": 3
   },
   "file_extension": ".py",
   "mimetype": "text/x-python",
   "name": "python",
   "nbconvert_exporter": "python",
   "pygments_lexer": "ipython3",
   "version": "3.12.4"
  }
 },
 "nbformat": 4,
 "nbformat_minor": 5
}
